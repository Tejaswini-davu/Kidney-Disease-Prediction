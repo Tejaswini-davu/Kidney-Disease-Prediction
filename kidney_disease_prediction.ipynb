{
 "cells": [
  {
   "cell_type": "markdown",
   "id": "9dd1d8d7",
   "metadata": {},
   "source": [
    "# SUPERVISED LEARNING(CLASSIFICATION)"
   ]
  },
  {
   "cell_type": "code",
   "execution_count": 1,
   "id": "97d61280",
   "metadata": {},
   "outputs": [],
   "source": [
    "import numpy as np\n",
    "import pandas as pd\n",
    "import matplotlib.pyplot as plt\n",
    "\n",
    "import warnings\n",
    "warnings.filterwarnings(\"ignore\")"
   ]
  },
  {
   "cell_type": "code",
   "execution_count": 2,
   "id": "c5070d65",
   "metadata": {},
   "outputs": [],
   "source": [
    "#loading the dataset\n",
    "df = pd.read_csv(\"C:\\\\Users\\\\Lenovo\\\\Downloads\\\\archive\\\\kidney_disease.csv\")"
   ]
  },
  {
   "cell_type": "code",
   "execution_count": 3,
   "id": "6d66c496",
   "metadata": {},
   "outputs": [],
   "source": [
    "pd.set_option('display.max_columns',None)"
   ]
  },
  {
   "cell_type": "code",
   "execution_count": 4,
   "id": "13a79226",
   "metadata": {},
   "outputs": [
    {
     "data": {
      "text/html": [
       "<div>\n",
       "<style scoped>\n",
       "    .dataframe tbody tr th:only-of-type {\n",
       "        vertical-align: middle;\n",
       "    }\n",
       "\n",
       "    .dataframe tbody tr th {\n",
       "        vertical-align: top;\n",
       "    }\n",
       "\n",
       "    .dataframe thead th {\n",
       "        text-align: right;\n",
       "    }\n",
       "</style>\n",
       "<table border=\"1\" class=\"dataframe\">\n",
       "  <thead>\n",
       "    <tr style=\"text-align: right;\">\n",
       "      <th></th>\n",
       "      <th>id</th>\n",
       "      <th>age</th>\n",
       "      <th>bp</th>\n",
       "      <th>sg</th>\n",
       "      <th>al</th>\n",
       "      <th>su</th>\n",
       "      <th>rbc</th>\n",
       "      <th>pc</th>\n",
       "      <th>pcc</th>\n",
       "      <th>ba</th>\n",
       "      <th>bgr</th>\n",
       "      <th>bu</th>\n",
       "      <th>sc</th>\n",
       "      <th>sod</th>\n",
       "      <th>pot</th>\n",
       "      <th>hemo</th>\n",
       "      <th>pcv</th>\n",
       "      <th>wc</th>\n",
       "      <th>rc</th>\n",
       "      <th>htn</th>\n",
       "      <th>dm</th>\n",
       "      <th>cad</th>\n",
       "      <th>appet</th>\n",
       "      <th>pe</th>\n",
       "      <th>ane</th>\n",
       "      <th>classification</th>\n",
       "    </tr>\n",
       "  </thead>\n",
       "  <tbody>\n",
       "    <tr>\n",
       "      <th>0</th>\n",
       "      <td>0</td>\n",
       "      <td>48.0</td>\n",
       "      <td>80.0</td>\n",
       "      <td>1.020</td>\n",
       "      <td>1.0</td>\n",
       "      <td>0.0</td>\n",
       "      <td>NaN</td>\n",
       "      <td>normal</td>\n",
       "      <td>notpresent</td>\n",
       "      <td>notpresent</td>\n",
       "      <td>121.0</td>\n",
       "      <td>36.0</td>\n",
       "      <td>1.2</td>\n",
       "      <td>NaN</td>\n",
       "      <td>NaN</td>\n",
       "      <td>15.4</td>\n",
       "      <td>44</td>\n",
       "      <td>7800</td>\n",
       "      <td>5.2</td>\n",
       "      <td>yes</td>\n",
       "      <td>yes</td>\n",
       "      <td>no</td>\n",
       "      <td>good</td>\n",
       "      <td>no</td>\n",
       "      <td>no</td>\n",
       "      <td>ckd</td>\n",
       "    </tr>\n",
       "    <tr>\n",
       "      <th>1</th>\n",
       "      <td>1</td>\n",
       "      <td>7.0</td>\n",
       "      <td>50.0</td>\n",
       "      <td>1.020</td>\n",
       "      <td>4.0</td>\n",
       "      <td>0.0</td>\n",
       "      <td>NaN</td>\n",
       "      <td>normal</td>\n",
       "      <td>notpresent</td>\n",
       "      <td>notpresent</td>\n",
       "      <td>NaN</td>\n",
       "      <td>18.0</td>\n",
       "      <td>0.8</td>\n",
       "      <td>NaN</td>\n",
       "      <td>NaN</td>\n",
       "      <td>11.3</td>\n",
       "      <td>38</td>\n",
       "      <td>6000</td>\n",
       "      <td>NaN</td>\n",
       "      <td>no</td>\n",
       "      <td>no</td>\n",
       "      <td>no</td>\n",
       "      <td>good</td>\n",
       "      <td>no</td>\n",
       "      <td>no</td>\n",
       "      <td>ckd</td>\n",
       "    </tr>\n",
       "    <tr>\n",
       "      <th>2</th>\n",
       "      <td>2</td>\n",
       "      <td>62.0</td>\n",
       "      <td>80.0</td>\n",
       "      <td>1.010</td>\n",
       "      <td>2.0</td>\n",
       "      <td>3.0</td>\n",
       "      <td>normal</td>\n",
       "      <td>normal</td>\n",
       "      <td>notpresent</td>\n",
       "      <td>notpresent</td>\n",
       "      <td>423.0</td>\n",
       "      <td>53.0</td>\n",
       "      <td>1.8</td>\n",
       "      <td>NaN</td>\n",
       "      <td>NaN</td>\n",
       "      <td>9.6</td>\n",
       "      <td>31</td>\n",
       "      <td>7500</td>\n",
       "      <td>NaN</td>\n",
       "      <td>no</td>\n",
       "      <td>yes</td>\n",
       "      <td>no</td>\n",
       "      <td>poor</td>\n",
       "      <td>no</td>\n",
       "      <td>yes</td>\n",
       "      <td>ckd</td>\n",
       "    </tr>\n",
       "    <tr>\n",
       "      <th>3</th>\n",
       "      <td>3</td>\n",
       "      <td>48.0</td>\n",
       "      <td>70.0</td>\n",
       "      <td>1.005</td>\n",
       "      <td>4.0</td>\n",
       "      <td>0.0</td>\n",
       "      <td>normal</td>\n",
       "      <td>abnormal</td>\n",
       "      <td>present</td>\n",
       "      <td>notpresent</td>\n",
       "      <td>117.0</td>\n",
       "      <td>56.0</td>\n",
       "      <td>3.8</td>\n",
       "      <td>111.0</td>\n",
       "      <td>2.5</td>\n",
       "      <td>11.2</td>\n",
       "      <td>32</td>\n",
       "      <td>6700</td>\n",
       "      <td>3.9</td>\n",
       "      <td>yes</td>\n",
       "      <td>no</td>\n",
       "      <td>no</td>\n",
       "      <td>poor</td>\n",
       "      <td>yes</td>\n",
       "      <td>yes</td>\n",
       "      <td>ckd</td>\n",
       "    </tr>\n",
       "    <tr>\n",
       "      <th>4</th>\n",
       "      <td>4</td>\n",
       "      <td>51.0</td>\n",
       "      <td>80.0</td>\n",
       "      <td>1.010</td>\n",
       "      <td>2.0</td>\n",
       "      <td>0.0</td>\n",
       "      <td>normal</td>\n",
       "      <td>normal</td>\n",
       "      <td>notpresent</td>\n",
       "      <td>notpresent</td>\n",
       "      <td>106.0</td>\n",
       "      <td>26.0</td>\n",
       "      <td>1.4</td>\n",
       "      <td>NaN</td>\n",
       "      <td>NaN</td>\n",
       "      <td>11.6</td>\n",
       "      <td>35</td>\n",
       "      <td>7300</td>\n",
       "      <td>4.6</td>\n",
       "      <td>no</td>\n",
       "      <td>no</td>\n",
       "      <td>no</td>\n",
       "      <td>good</td>\n",
       "      <td>no</td>\n",
       "      <td>no</td>\n",
       "      <td>ckd</td>\n",
       "    </tr>\n",
       "  </tbody>\n",
       "</table>\n",
       "</div>"
      ],
      "text/plain": [
       "   id   age    bp     sg   al   su     rbc        pc         pcc          ba  \\\n",
       "0   0  48.0  80.0  1.020  1.0  0.0     NaN    normal  notpresent  notpresent   \n",
       "1   1   7.0  50.0  1.020  4.0  0.0     NaN    normal  notpresent  notpresent   \n",
       "2   2  62.0  80.0  1.010  2.0  3.0  normal    normal  notpresent  notpresent   \n",
       "3   3  48.0  70.0  1.005  4.0  0.0  normal  abnormal     present  notpresent   \n",
       "4   4  51.0  80.0  1.010  2.0  0.0  normal    normal  notpresent  notpresent   \n",
       "\n",
       "     bgr    bu   sc    sod  pot  hemo pcv    wc   rc  htn   dm cad appet   pe  \\\n",
       "0  121.0  36.0  1.2    NaN  NaN  15.4  44  7800  5.2  yes  yes  no  good   no   \n",
       "1    NaN  18.0  0.8    NaN  NaN  11.3  38  6000  NaN   no   no  no  good   no   \n",
       "2  423.0  53.0  1.8    NaN  NaN   9.6  31  7500  NaN   no  yes  no  poor   no   \n",
       "3  117.0  56.0  3.8  111.0  2.5  11.2  32  6700  3.9  yes   no  no  poor  yes   \n",
       "4  106.0  26.0  1.4    NaN  NaN  11.6  35  7300  4.6   no   no  no  good   no   \n",
       "\n",
       "   ane classification  \n",
       "0   no            ckd  \n",
       "1   no            ckd  \n",
       "2  yes            ckd  \n",
       "3  yes            ckd  \n",
       "4   no            ckd  "
      ]
     },
     "execution_count": 4,
     "metadata": {},
     "output_type": "execute_result"
    }
   ],
   "source": [
    "df.head()"
   ]
  },
  {
   "cell_type": "markdown",
   "id": "818229e7",
   "metadata": {},
   "source": [
    "feature | Description\n",
    "----------|------\n",
    "id | patient_id\n",
    "age | patient_age\n",
    "bp |patient_bloodpressure\n",
    "sg | patient_specific_gravity(Urine specific gravity is a laboratory test that shows the concentration of all chemical                                               particles in the urine)\n",
    "al | patient_Albumin(Albumin is the protein found in the blood)\n",
    "su | patient_Sugar\n",
    "rbc | patient_red_blood_cells\n",
    "pc | puss cells(Pus is a thick, discolored (white, yellow, pink or green) fluid that your body makes to help fight off an                           infection)\n",
    "pcc | puss_cell_clamps\n",
    "ba | bacteria\n",
    "bgr | blood_glucose_random\n",
    "bu | blood_urea\n",
    "sc | serum creatinine\n",
    "sod | sodium\n",
    "pot | potassium\n",
    "hemo | hemoglobin\n",
    "pcv | packed cell volume\n",
    "wc | white blood cells count\n",
    "rc | red blood cells count\n",
    "htn | hypertension\n",
    "dm | diabetes mellitus\n",
    "cad | coronary artery disease\n",
    "appet | appetite\n",
    "pe | pedal edema\n",
    "ane | anemia\n",
    "classification \n"
   ]
  },
  {
   "cell_type": "markdown",
   "id": "e91162ac",
   "metadata": {},
   "source": [
    "# DATA CLEANING"
   ]
  },
  {
   "cell_type": "code",
   "execution_count": 5,
   "id": "1f25530d",
   "metadata": {},
   "outputs": [
    {
     "data": {
      "text/html": [
       "<div>\n",
       "<style scoped>\n",
       "    .dataframe tbody tr th:only-of-type {\n",
       "        vertical-align: middle;\n",
       "    }\n",
       "\n",
       "    .dataframe tbody tr th {\n",
       "        vertical-align: top;\n",
       "    }\n",
       "\n",
       "    .dataframe thead th {\n",
       "        text-align: right;\n",
       "    }\n",
       "</style>\n",
       "<table border=\"1\" class=\"dataframe\">\n",
       "  <thead>\n",
       "    <tr style=\"text-align: right;\">\n",
       "      <th></th>\n",
       "      <th>id</th>\n",
       "      <th>age</th>\n",
       "      <th>bp</th>\n",
       "      <th>sg</th>\n",
       "      <th>al</th>\n",
       "      <th>su</th>\n",
       "      <th>rbc</th>\n",
       "      <th>pc</th>\n",
       "      <th>pcc</th>\n",
       "      <th>ba</th>\n",
       "      <th>bgr</th>\n",
       "      <th>bu</th>\n",
       "      <th>sc</th>\n",
       "      <th>sod</th>\n",
       "      <th>pot</th>\n",
       "      <th>hemo</th>\n",
       "      <th>pcv</th>\n",
       "      <th>wc</th>\n",
       "      <th>rc</th>\n",
       "      <th>htn</th>\n",
       "      <th>dm</th>\n",
       "      <th>cad</th>\n",
       "      <th>appet</th>\n",
       "      <th>pe</th>\n",
       "      <th>ane</th>\n",
       "      <th>classification</th>\n",
       "    </tr>\n",
       "  </thead>\n",
       "  <tbody>\n",
       "  </tbody>\n",
       "</table>\n",
       "</div>"
      ],
      "text/plain": [
       "Empty DataFrame\n",
       "Columns: [id, age, bp, sg, al, su, rbc, pc, pcc, ba, bgr, bu, sc, sod, pot, hemo, pcv, wc, rc, htn, dm, cad, appet, pe, ane, classification]\n",
       "Index: []"
      ]
     },
     "execution_count": 5,
     "metadata": {},
     "output_type": "execute_result"
    }
   ],
   "source": [
    "df[df.duplicated()]"
   ]
  },
  {
   "cell_type": "code",
   "execution_count": 6,
   "id": "8be01d85",
   "metadata": {},
   "outputs": [],
   "source": [
    "#Setting id as index\n",
    "df.set_index('id',inplace = True)"
   ]
  },
  {
   "cell_type": "code",
   "execution_count": 7,
   "id": "7707f22e",
   "metadata": {
    "scrolled": true
   },
   "outputs": [
    {
     "name": "stdout",
     "output_type": "stream",
     "text": [
      "age\n",
      "..................\n",
      "[48.  7. 62. 51. 60. 68. 24. 52. 53. 50. 63. 40. 47. 61. 21. 42. 75. 69.\n",
      " nan 73. 70. 65. 76. 72. 82. 46. 45. 35. 54. 11. 59. 67. 15. 55. 44. 26.\n",
      " 64. 56.  5. 74. 38. 58. 71. 34. 17. 12. 43. 41. 57.  8. 39. 66. 81. 14.\n",
      " 27. 83. 30.  4.  3.  6. 32. 80. 49. 90. 78. 19.  2. 33. 36. 37. 23. 25.\n",
      " 20. 29. 28. 22. 79.]\n",
      "<class 'pandas.core.series.Series'>\n",
      "Int64Index: 400 entries, 0 to 399\n",
      "Series name: age\n",
      "Non-Null Count  Dtype  \n",
      "--------------  -----  \n",
      "391 non-null    float64\n",
      "dtypes: float64(1)\n",
      "memory usage: 6.2 KB\n",
      "None\n",
      "9\n",
      "count    391.000000\n",
      "mean      51.483376\n",
      "std       17.169714\n",
      "min        2.000000\n",
      "25%       42.000000\n",
      "50%       55.000000\n",
      "75%       64.500000\n",
      "max       90.000000\n",
      "Name: age, dtype: float64\n",
      "bp\n",
      "..................\n",
      "[ 80.  50.  70.  90.  nan 100.  60. 110. 140. 180. 120.]\n",
      "<class 'pandas.core.series.Series'>\n",
      "Int64Index: 400 entries, 0 to 399\n",
      "Series name: bp\n",
      "Non-Null Count  Dtype  \n",
      "--------------  -----  \n",
      "388 non-null    float64\n",
      "dtypes: float64(1)\n",
      "memory usage: 6.2 KB\n",
      "None\n",
      "12\n",
      "count    388.000000\n",
      "mean      76.469072\n",
      "std       13.683637\n",
      "min       50.000000\n",
      "25%       70.000000\n",
      "50%       80.000000\n",
      "75%       80.000000\n",
      "max      180.000000\n",
      "Name: bp, dtype: float64\n",
      "sg\n",
      "..................\n",
      "[1.02  1.01  1.005 1.015   nan 1.025]\n",
      "<class 'pandas.core.series.Series'>\n",
      "Int64Index: 400 entries, 0 to 399\n",
      "Series name: sg\n",
      "Non-Null Count  Dtype  \n",
      "--------------  -----  \n",
      "353 non-null    float64\n",
      "dtypes: float64(1)\n",
      "memory usage: 6.2 KB\n",
      "None\n",
      "47\n",
      "count    353.000000\n",
      "mean       1.017408\n",
      "std        0.005717\n",
      "min        1.005000\n",
      "25%        1.010000\n",
      "50%        1.020000\n",
      "75%        1.020000\n",
      "max        1.025000\n",
      "Name: sg, dtype: float64\n",
      "al\n",
      "..................\n",
      "[ 1.  4.  2.  3.  0. nan  5.]\n",
      "<class 'pandas.core.series.Series'>\n",
      "Int64Index: 400 entries, 0 to 399\n",
      "Series name: al\n",
      "Non-Null Count  Dtype  \n",
      "--------------  -----  \n",
      "354 non-null    float64\n",
      "dtypes: float64(1)\n",
      "memory usage: 6.2 KB\n",
      "None\n",
      "46\n",
      "count    354.000000\n",
      "mean       1.016949\n",
      "std        1.352679\n",
      "min        0.000000\n",
      "25%        0.000000\n",
      "50%        0.000000\n",
      "75%        2.000000\n",
      "max        5.000000\n",
      "Name: al, dtype: float64\n",
      "su\n",
      "..................\n",
      "[ 0.  3.  4.  1. nan  2.  5.]\n",
      "<class 'pandas.core.series.Series'>\n",
      "Int64Index: 400 entries, 0 to 399\n",
      "Series name: su\n",
      "Non-Null Count  Dtype  \n",
      "--------------  -----  \n",
      "351 non-null    float64\n",
      "dtypes: float64(1)\n",
      "memory usage: 6.2 KB\n",
      "None\n",
      "49\n",
      "count    351.000000\n",
      "mean       0.450142\n",
      "std        1.099191\n",
      "min        0.000000\n",
      "25%        0.000000\n",
      "50%        0.000000\n",
      "75%        0.000000\n",
      "max        5.000000\n",
      "Name: su, dtype: float64\n",
      "rbc\n",
      "..................\n",
      "[nan 'normal' 'abnormal']\n",
      "<class 'pandas.core.series.Series'>\n",
      "Int64Index: 400 entries, 0 to 399\n",
      "Series name: rbc\n",
      "Non-Null Count  Dtype \n",
      "--------------  ----- \n",
      "248 non-null    object\n",
      "dtypes: object(1)\n",
      "memory usage: 6.2+ KB\n",
      "None\n",
      "152\n",
      "count        248\n",
      "unique         2\n",
      "top       normal\n",
      "freq         201\n",
      "Name: rbc, dtype: object\n",
      "pc\n",
      "..................\n",
      "['normal' 'abnormal' nan]\n",
      "<class 'pandas.core.series.Series'>\n",
      "Int64Index: 400 entries, 0 to 399\n",
      "Series name: pc\n",
      "Non-Null Count  Dtype \n",
      "--------------  ----- \n",
      "335 non-null    object\n",
      "dtypes: object(1)\n",
      "memory usage: 6.2+ KB\n",
      "None\n",
      "65\n",
      "count        335\n",
      "unique         2\n",
      "top       normal\n",
      "freq         259\n",
      "Name: pc, dtype: object\n",
      "pcc\n",
      "..................\n",
      "['notpresent' 'present' nan]\n",
      "<class 'pandas.core.series.Series'>\n",
      "Int64Index: 400 entries, 0 to 399\n",
      "Series name: pcc\n",
      "Non-Null Count  Dtype \n",
      "--------------  ----- \n",
      "396 non-null    object\n",
      "dtypes: object(1)\n",
      "memory usage: 6.2+ KB\n",
      "None\n",
      "4\n",
      "count            396\n",
      "unique             2\n",
      "top       notpresent\n",
      "freq             354\n",
      "Name: pcc, dtype: object\n",
      "ba\n",
      "..................\n",
      "['notpresent' 'present' nan]\n",
      "<class 'pandas.core.series.Series'>\n",
      "Int64Index: 400 entries, 0 to 399\n",
      "Series name: ba\n",
      "Non-Null Count  Dtype \n",
      "--------------  ----- \n",
      "396 non-null    object\n",
      "dtypes: object(1)\n",
      "memory usage: 6.2+ KB\n",
      "None\n",
      "4\n",
      "count            396\n",
      "unique             2\n",
      "top       notpresent\n",
      "freq             374\n",
      "Name: ba, dtype: object\n",
      "bgr\n",
      "..................\n",
      "[121.  nan 423. 117. 106.  74. 100. 410. 138.  70. 490. 380. 208.  98.\n",
      " 157.  76.  99. 114. 263. 173.  95. 108. 156. 264. 123.  93. 107. 159.\n",
      " 140. 171. 270.  92. 137. 204.  79. 207. 124. 144.  91. 162. 246. 253.\n",
      " 141. 182.  86. 150. 146. 425. 112. 250. 360. 163. 129. 133. 102. 158.\n",
      " 165. 132. 104. 127. 415. 169. 251. 109. 280. 210. 219. 295.  94. 172.\n",
      " 101. 298. 153.  88. 226. 143. 115.  89. 297. 233. 294. 323. 125.  90.\n",
      " 308. 118. 224. 128. 122. 214. 213. 268. 256.  84. 105. 288. 139.  78.\n",
      " 273. 242. 424. 303. 148. 160. 192. 307. 220. 447. 309.  22. 111. 261.\n",
      " 215. 234. 131. 352.  80. 239. 110. 130. 184. 252. 113. 230. 341. 255.\n",
      " 103. 238. 248. 120. 241. 269. 201. 203. 463. 176.  82. 119.  97.  96.\n",
      "  81. 116. 134.  85.  83.  87.  75.]\n",
      "<class 'pandas.core.series.Series'>\n",
      "Int64Index: 400 entries, 0 to 399\n",
      "Series name: bgr\n",
      "Non-Null Count  Dtype  \n",
      "--------------  -----  \n",
      "356 non-null    float64\n",
      "dtypes: float64(1)\n",
      "memory usage: 6.2 KB\n",
      "None\n",
      "44\n",
      "count    356.000000\n",
      "mean     148.036517\n",
      "std       79.281714\n",
      "min       22.000000\n",
      "25%       99.000000\n",
      "50%      121.000000\n",
      "75%      163.000000\n",
      "max      490.000000\n",
      "Name: bgr, dtype: float64\n",
      "bu\n",
      "..................\n",
      "[ 36.   18.   53.   56.   26.   25.   54.   31.   60.  107.   55.   72.\n",
      "  86.   90.  162.   46.   87.   27.  148.  180.  163.    nan  50.   75.\n",
      "  45.   28.  155.   33.   39.  153.   29.   65.  103.   70.   80.   20.\n",
      " 202.   77.   89.   24.   17.   32.  114.   66.   38.  164.  142.   96.\n",
      " 391.   15.  111.   73.   19.   92.   35.   16.  139.   48.   85.   98.\n",
      " 186.   37.   47.   52.   82.   51.  106.   22.  217.   88.  118.   50.1\n",
      "  71.   34.   40.   21.  219.   30.  125.  166.   49.  208.  176.   68.\n",
      " 145.  165.  322.   23.  235.  132.   76.   42.   44.   41.  113.    1.5\n",
      " 146.   58.  133.  137.   67.  115.  223.   98.6 158.   94.   74.  150.\n",
      "  61.   57.   95.  191.   93.  241.   64.   79.  215.  309.   10. ]\n",
      "<class 'pandas.core.series.Series'>\n",
      "Int64Index: 400 entries, 0 to 399\n",
      "Series name: bu\n",
      "Non-Null Count  Dtype  \n",
      "--------------  -----  \n",
      "381 non-null    float64\n",
      "dtypes: float64(1)\n",
      "memory usage: 6.2 KB\n",
      "None\n",
      "19\n",
      "count    381.000000\n",
      "mean      57.425722\n",
      "std       50.503006\n",
      "min        1.500000\n",
      "25%       27.000000\n",
      "50%       42.000000\n",
      "75%       66.000000\n",
      "max      391.000000\n",
      "Name: bu, dtype: float64\n",
      "sc\n",
      "..................\n",
      "[ 1.2   0.8   1.8   3.8   1.4   1.1  24.    1.9   7.2   4.    2.7   2.1\n",
      "  4.6   4.1   9.6   2.2   5.2   1.3   1.6   3.9  76.    7.7    nan  2.4\n",
      "  7.3   1.5   2.5   2.    3.4   0.7   1.   10.8   6.3   5.9   0.9   3.\n",
      "  3.25  9.7   6.4   3.2  32.    0.6   6.1   3.3   6.7   8.5   2.8  15.\n",
      "  2.9   1.7   3.6   5.6   6.5   4.4  10.2  11.5   0.5  12.2   5.3   9.2\n",
      " 13.8  16.9   6.    7.1  18.    2.3  13.   48.1  14.2  16.4   2.6   7.5\n",
      "  4.3  18.1  11.8   9.3   6.8  13.5  12.8  11.9  12.   13.4  15.2  13.3\n",
      "  0.4 ]\n",
      "<class 'pandas.core.series.Series'>\n",
      "Int64Index: 400 entries, 0 to 399\n",
      "Series name: sc\n",
      "Non-Null Count  Dtype  \n",
      "--------------  -----  \n",
      "383 non-null    float64\n",
      "dtypes: float64(1)\n",
      "memory usage: 6.2 KB\n",
      "None\n",
      "17\n",
      "count    383.000000\n",
      "mean       3.072454\n",
      "std        5.741126\n",
      "min        0.400000\n",
      "25%        0.900000\n",
      "50%        1.300000\n",
      "75%        2.800000\n",
      "max       76.000000\n",
      "Name: sc, dtype: float64\n",
      "sod\n",
      "..................\n",
      "[  nan 111.  142.  104.  114.  131.  138.  135.  130.  141.  139.    4.5\n",
      " 136.  129.  140.  132.  133.  134.  125.  163.  137.  128.  143.  127.\n",
      " 146.  126.  122.  147.  124.  115.  145.  113.  120.  150.  144. ]\n",
      "<class 'pandas.core.series.Series'>\n",
      "Int64Index: 400 entries, 0 to 399\n",
      "Series name: sod\n",
      "Non-Null Count  Dtype  \n",
      "--------------  -----  \n",
      "313 non-null    float64\n",
      "dtypes: float64(1)\n",
      "memory usage: 6.2 KB\n",
      "None\n",
      "87\n",
      "count    313.000000\n",
      "mean     137.528754\n",
      "std       10.408752\n",
      "min        4.500000\n",
      "25%      135.000000\n",
      "50%      138.000000\n",
      "75%      142.000000\n",
      "max      163.000000\n",
      "Name: sod, dtype: float64\n",
      "pot\n",
      "..................\n",
      "[ nan  2.5  3.2  4.   3.7  4.2  5.8  3.4  6.4  4.9  4.1  4.3  5.2  3.8\n",
      "  4.6  3.9  4.7  5.9  4.8  4.4  6.6 39.   5.5  5.   3.5  3.6  7.6  2.9\n",
      "  4.5  5.7  5.4  5.3 47.   6.3  5.1  5.6  3.   2.8  2.7  6.5  3.3]\n",
      "<class 'pandas.core.series.Series'>\n",
      "Int64Index: 400 entries, 0 to 399\n",
      "Series name: pot\n",
      "Non-Null Count  Dtype  \n",
      "--------------  -----  \n",
      "312 non-null    float64\n",
      "dtypes: float64(1)\n",
      "memory usage: 6.2 KB\n",
      "None\n",
      "88\n",
      "count    312.000000\n",
      "mean       4.627244\n",
      "std        3.193904\n",
      "min        2.500000\n",
      "25%        3.800000\n",
      "50%        4.400000\n",
      "75%        4.900000\n",
      "max       47.000000\n",
      "Name: pot, dtype: float64\n",
      "hemo\n",
      "..................\n",
      "[15.4 11.3  9.6 11.2 11.6 12.2 12.4 10.8  9.5  9.4  9.7  9.8  5.6  7.6\n",
      " 12.6 12.1 12.7 10.3  7.7 10.9  nan 11.1  9.9 12.5 12.9 10.1 12.  13.\n",
      "  7.9  9.3 15.  10.   8.6 13.6 10.2 10.5  6.6 11.   7.5 15.6 15.2  4.8\n",
      "  9.1  8.1 11.9 13.5  8.3  7.1 16.1 10.4  9.2  6.2 13.9 14.1  6.  11.8\n",
      " 11.7 11.4 14.   8.2 13.2  6.1  8.  12.3  8.4 14.3  9.   8.7 10.6 13.1\n",
      " 10.7  5.5  5.8  6.8  8.8  8.5 13.8 11.5  7.3 13.7 12.8 13.4  6.3  3.1\n",
      " 17.  15.9 14.5 15.5 16.2 14.4 14.2 16.3 14.8 16.5 15.7 13.3 14.6 16.4\n",
      " 16.9 16.  14.7 16.6 14.9 16.7 16.8 15.8 15.1 17.1 17.2 15.3 17.3 17.4\n",
      " 17.7 17.8 17.5 17.6]\n",
      "<class 'pandas.core.series.Series'>\n",
      "Int64Index: 400 entries, 0 to 399\n",
      "Series name: hemo\n",
      "Non-Null Count  Dtype  \n",
      "--------------  -----  \n",
      "348 non-null    float64\n",
      "dtypes: float64(1)\n",
      "memory usage: 6.2 KB\n",
      "None\n",
      "52\n",
      "count    348.000000\n",
      "mean      12.526437\n",
      "std        2.912587\n",
      "min        3.100000\n",
      "25%       10.300000\n",
      "50%       12.650000\n",
      "75%       15.000000\n",
      "max       17.800000\n",
      "Name: hemo, dtype: float64\n",
      "pcv\n",
      "..................\n",
      "['44' '38' '31' '32' '35' '39' '36' '33' '29' '28' nan '16' '24' '37' '30'\n",
      " '34' '40' '45' '27' '48' '\\t?' '52' '14' '22' '18' '42' '17' '46' '23'\n",
      " '19' '25' '41' '26' '15' '21' '43' '20' '\\t43' '47' '9' '49' '50' '53'\n",
      " '51' '54']\n",
      "<class 'pandas.core.series.Series'>\n",
      "Int64Index: 400 entries, 0 to 399\n",
      "Series name: pcv\n",
      "Non-Null Count  Dtype \n",
      "--------------  ----- \n",
      "330 non-null    object\n",
      "dtypes: object(1)\n",
      "memory usage: 6.2+ KB\n",
      "None\n",
      "70\n",
      "count     330\n",
      "unique     44\n",
      "top        41\n",
      "freq       21\n",
      "Name: pcv, dtype: object\n",
      "wc\n",
      "..................\n",
      "['7800' '6000' '7500' '6700' '7300' nan '6900' '9600' '12100' '4500'\n",
      " '12200' '11000' '3800' '11400' '5300' '9200' '6200' '8300' '8400' '10300'\n",
      " '9800' '9100' '7900' '6400' '8600' '18900' '21600' '4300' '8500' '11300'\n",
      " '7200' '7700' '14600' '6300' '\\t6200' '7100' '11800' '9400' '5500' '5800'\n",
      " '13200' '12500' '5600' '7000' '11900' '10400' '10700' '12700' '6800'\n",
      " '6500' '13600' '10200' '9000' '14900' '8200' '15200' '5000' '16300'\n",
      " '12400' '\\t8400' '10500' '4200' '4700' '10900' '8100' '9500' '2200'\n",
      " '12800' '11200' '19100' '\\t?' '12300' '16700' '2600' '26400' '8800'\n",
      " '7400' '4900' '8000' '12000' '15700' '4100' '5700' '11500' '5400' '10800'\n",
      " '9900' '5200' '5900' '9300' '9700' '5100' '6600']\n",
      "<class 'pandas.core.series.Series'>\n",
      "Int64Index: 400 entries, 0 to 399\n",
      "Series name: wc\n",
      "Non-Null Count  Dtype \n",
      "--------------  ----- \n",
      "295 non-null    object\n",
      "dtypes: object(1)\n",
      "memory usage: 6.2+ KB\n",
      "None\n",
      "105\n",
      "count      295\n",
      "unique      92\n",
      "top       9800\n",
      "freq        11\n",
      "Name: wc, dtype: object\n",
      "rc\n",
      "..................\n",
      "['5.2' nan '3.9' '4.6' '4.4' '5' '4.0' '3.7' '3.8' '3.4' '2.6' '2.8' '4.3'\n",
      " '3.2' '3.6' '4' '4.1' '4.9' '2.5' '4.2' '4.5' '3.1' '4.7' '3.5' '6.0'\n",
      " '5.0' '2.1' '5.6' '2.3' '2.9' '2.7' '8.0' '3.3' '3.0' '3' '2.4' '4.8'\n",
      " '\\t?' '5.4' '6.1' '6.2' '6.3' '5.1' '5.8' '5.5' '5.3' '6.4' '5.7' '5.9'\n",
      " '6.5']\n",
      "<class 'pandas.core.series.Series'>\n",
      "Int64Index: 400 entries, 0 to 399\n",
      "Series name: rc\n",
      "Non-Null Count  Dtype \n",
      "--------------  ----- \n",
      "270 non-null    object\n",
      "dtypes: object(1)\n",
      "memory usage: 6.2+ KB\n",
      "None\n",
      "130\n",
      "count     270\n",
      "unique     49\n",
      "top       5.2\n",
      "freq       18\n",
      "Name: rc, dtype: object\n",
      "htn\n",
      "..................\n",
      "['yes' 'no' nan]\n",
      "<class 'pandas.core.series.Series'>\n",
      "Int64Index: 400 entries, 0 to 399\n",
      "Series name: htn\n",
      "Non-Null Count  Dtype \n",
      "--------------  ----- \n",
      "398 non-null    object\n",
      "dtypes: object(1)\n",
      "memory usage: 6.2+ KB\n",
      "None\n",
      "2\n",
      "count     398\n",
      "unique      2\n",
      "top        no\n",
      "freq      251\n",
      "Name: htn, dtype: object\n",
      "dm\n",
      "..................\n",
      "['yes' 'no' ' yes' '\\tno' '\\tyes' nan]\n",
      "<class 'pandas.core.series.Series'>\n",
      "Int64Index: 400 entries, 0 to 399\n",
      "Series name: dm\n",
      "Non-Null Count  Dtype \n",
      "--------------  ----- \n",
      "398 non-null    object\n",
      "dtypes: object(1)\n",
      "memory usage: 6.2+ KB\n",
      "None\n",
      "2\n",
      "count     398\n",
      "unique      5\n",
      "top        no\n",
      "freq      258\n",
      "Name: dm, dtype: object\n",
      "cad\n",
      "..................\n",
      "['no' 'yes' '\\tno' nan]\n",
      "<class 'pandas.core.series.Series'>\n",
      "Int64Index: 400 entries, 0 to 399\n",
      "Series name: cad\n",
      "Non-Null Count  Dtype \n",
      "--------------  ----- \n",
      "398 non-null    object\n",
      "dtypes: object(1)\n",
      "memory usage: 6.2+ KB\n",
      "None\n",
      "2\n",
      "count     398\n",
      "unique      3\n",
      "top        no\n",
      "freq      362\n",
      "Name: cad, dtype: object\n",
      "appet\n",
      "..................\n",
      "['good' 'poor' nan]\n",
      "<class 'pandas.core.series.Series'>\n",
      "Int64Index: 400 entries, 0 to 399\n",
      "Series name: appet\n",
      "Non-Null Count  Dtype \n",
      "--------------  ----- \n",
      "399 non-null    object\n",
      "dtypes: object(1)\n",
      "memory usage: 6.2+ KB\n",
      "None\n",
      "1\n",
      "count      399\n",
      "unique       2\n",
      "top       good\n",
      "freq       317\n",
      "Name: appet, dtype: object\n",
      "pe\n",
      "..................\n",
      "['no' 'yes' nan]\n",
      "<class 'pandas.core.series.Series'>\n",
      "Int64Index: 400 entries, 0 to 399\n",
      "Series name: pe\n",
      "Non-Null Count  Dtype \n",
      "--------------  ----- \n",
      "399 non-null    object\n",
      "dtypes: object(1)\n",
      "memory usage: 6.2+ KB\n",
      "None\n",
      "1\n",
      "count     399\n",
      "unique      2\n",
      "top        no\n",
      "freq      323\n",
      "Name: pe, dtype: object\n",
      "ane\n",
      "..................\n",
      "['no' 'yes' nan]\n",
      "<class 'pandas.core.series.Series'>\n",
      "Int64Index: 400 entries, 0 to 399\n",
      "Series name: ane\n",
      "Non-Null Count  Dtype \n",
      "--------------  ----- \n",
      "399 non-null    object\n",
      "dtypes: object(1)\n",
      "memory usage: 6.2+ KB\n",
      "None\n",
      "1\n",
      "count     399\n",
      "unique      2\n",
      "top        no\n",
      "freq      339\n",
      "Name: ane, dtype: object\n",
      "classification\n",
      "..................\n",
      "['ckd' 'ckd\\t' 'notckd']\n",
      "<class 'pandas.core.series.Series'>\n",
      "Int64Index: 400 entries, 0 to 399\n",
      "Series name: classification\n",
      "Non-Null Count  Dtype \n",
      "--------------  ----- \n",
      "400 non-null    object\n",
      "dtypes: object(1)\n",
      "memory usage: 6.2+ KB\n",
      "None\n",
      "0\n",
      "count     400\n",
      "unique      3\n",
      "top       ckd\n",
      "freq      248\n",
      "Name: classification, dtype: object\n"
     ]
    }
   ],
   "source": [
    "for i in df.columns:\n",
    "    if i == 'int32' or 'float64':\n",
    "        print(i)\n",
    "        print(\"..................\")\n",
    "        print(df[i].unique())\n",
    "        print(df[i].info())\n",
    "        print(df[i].isnull().sum())\n",
    "        print(df[i].describe())\n",
    "    elif i == 'object':\n",
    "        print(i)\n",
    "        print(\"..................\")\n",
    "        print(df[i].unique())\n",
    "        print(df[i].info())\n",
    "        print(df[i].isnull().sum())"
   ]
  },
  {
   "cell_type": "raw",
   "id": "2b447dfb",
   "metadata": {},
   "source": [
    "#data cleaning\n",
    "Age = nan values\n",
    "bp = nan values\n",
    "sg = nan\n",
    "al = nan\n",
    "su = nan\n",
    "rbc = nan\n",
    "pc = nan\n",
    "pcc = nan\n",
    "ba = nan\n",
    "bgr= nan\n",
    "bu = nan\n",
    "sc = nan\n",
    "sod = nan\n",
    "pot = nan\n",
    "hemo = nan\n",
    "pcv - \\t,\\t43\n",
    "wc =\\t8400,\\t,\\t6200\n",
    "rc =\\t,nan\n",
    "htn = nan\n",
    "dm = \\tno,\\tyes\n",
    "cad = \\tno,nan\n",
    "appet=nan\n",
    "pe=nan\n",
    "ane =nan\n",
    "classification = ckd\\t"
   ]
  },
  {
   "cell_type": "code",
   "execution_count": 8,
   "id": "7ed6d562",
   "metadata": {},
   "outputs": [
    {
     "data": {
      "text/plain": [
       "array(['44', '38', '31', '32', '35', '39', '36', '33', '29', '28', nan,\n",
       "       '16', '24', '37', '30', '34', '40', '45', '27', '48', '52', '14',\n",
       "       '22', '18', '42', '17', '46', '23', '19', '25', '41', '26', '15',\n",
       "       '21', '43', '20', '47', '9', '49', '50', '53', '51', '54'],\n",
       "      dtype=object)"
      ]
     },
     "execution_count": 8,
     "metadata": {},
     "output_type": "execute_result"
    }
   ],
   "source": [
    "df['pcv'].replace({'\\t?': np.nan ,'\\t43':'43'}).unique()"
   ]
  },
  {
   "cell_type": "code",
   "execution_count": 9,
   "id": "15c6965a",
   "metadata": {},
   "outputs": [],
   "source": [
    "df['pcv']=df['pcv'].replace({'\\t?': np.nan ,'\\t43':'43'})"
   ]
  },
  {
   "cell_type": "code",
   "execution_count": 10,
   "id": "4c39449a",
   "metadata": {},
   "outputs": [
    {
     "data": {
      "text/plain": [
       "array(['44', '38', '31', '32', '35', '39', '36', '33', '29', '28', nan,\n",
       "       '16', '24', '37', '30', '34', '40', '45', '27', '48', '52', '14',\n",
       "       '22', '18', '42', '17', '46', '23', '19', '25', '41', '26', '15',\n",
       "       '21', '43', '20', '47', '9', '49', '50', '53', '51', '54'],\n",
       "      dtype=object)"
      ]
     },
     "execution_count": 10,
     "metadata": {},
     "output_type": "execute_result"
    }
   ],
   "source": [
    "df['pcv'].unique()"
   ]
  },
  {
   "cell_type": "code",
   "execution_count": 11,
   "id": "67755539",
   "metadata": {},
   "outputs": [
    {
     "data": {
      "text/plain": [
       "array(['7800', '6000', '7500', '6700', '7300', nan, '6900', '9600',\n",
       "       '12100', '4500', '12200', '11000', '3800', '11400', '5300', '9200',\n",
       "       '6200', '8300', '8400', '10300', '9800', '9100', '7900', '6400',\n",
       "       '8600', '18900', '21600', '4300', '8500', '11300', '7200', '7700',\n",
       "       '14600', '6300', 6200, '7100', '11800', '9400', '5500', '5800',\n",
       "       '13200', '12500', '5600', '7000', '11900', '10400', '10700',\n",
       "       '12700', '6800', '6500', '13600', '10200', '9000', '14900', '8200',\n",
       "       '15200', '5000', '16300', '12400', '10500', '4200', '4700',\n",
       "       '10900', '8100', '9500', '2200', '12800', '11200', '19100',\n",
       "       '12300', '16700', '2600', '26400', '8800', '7400', '4900', '8000',\n",
       "       '12000', '15700', '4100', '5700', '11500', '5400', '10800', '9900',\n",
       "       '5200', '5900', '9300', '9700', '5100', '6600'], dtype=object)"
      ]
     },
     "execution_count": 11,
     "metadata": {},
     "output_type": "execute_result"
    }
   ],
   "source": [
    "df['wc'].replace({'\\t6200': 6200 ,'\\t8400':'8400','\\t?': np.nan}).unique()"
   ]
  },
  {
   "cell_type": "code",
   "execution_count": 12,
   "id": "4757338a",
   "metadata": {},
   "outputs": [],
   "source": [
    "df['wc']=df['wc'].replace({'\\t6200': 6200 ,'\\t8400':'8400','\\t?': np.nan}).astype(float)"
   ]
  },
  {
   "cell_type": "code",
   "execution_count": 13,
   "id": "d224ca6a",
   "metadata": {},
   "outputs": [
    {
     "data": {
      "text/plain": [
       "array(['5.2', nan, '3.9', '4.6', '4.4', '5', '4.0', '3.7', '3.8', '3.4',\n",
       "       '2.6', '2.8', '4.3', '3.2', '3.6', '4', '4.1', '4.9', '2.5', '4.2',\n",
       "       '4.5', '3.1', '4.7', '3.5', '6.0', '5.0', '2.1', '5.6', '2.3',\n",
       "       '2.9', '2.7', '8.0', '3.3', '3.0', '3', '2.4', '4.8', '5.4', '6.1',\n",
       "       '6.2', '6.3', '5.1', '5.8', '5.5', '5.3', '6.4', '5.7', '5.9',\n",
       "       '6.5'], dtype=object)"
      ]
     },
     "execution_count": 13,
     "metadata": {},
     "output_type": "execute_result"
    }
   ],
   "source": [
    "df['rc'].replace({'\\t?':np.nan}).unique()"
   ]
  },
  {
   "cell_type": "code",
   "execution_count": 14,
   "id": "4d6c783a",
   "metadata": {},
   "outputs": [],
   "source": [
    "df['rc']=df['rc'].replace({'\\t?':np.nan}).astype(float)"
   ]
  },
  {
   "cell_type": "code",
   "execution_count": 15,
   "id": "ab946de2",
   "metadata": {},
   "outputs": [
    {
     "data": {
      "text/plain": [
       "array(['yes', 'no', nan], dtype=object)"
      ]
     },
     "execution_count": 15,
     "metadata": {},
     "output_type": "execute_result"
    }
   ],
   "source": [
    "df['dm'].str.replace(\"\\tno\",\"no\").str.replace(\"\\tyes\",\"yes\").str.replace(\" yes\",'yes').unique()"
   ]
  },
  {
   "cell_type": "code",
   "execution_count": 16,
   "id": "65c21b81",
   "metadata": {},
   "outputs": [],
   "source": [
    "df['dm']=df['dm'].str.replace(\"\\tno\",\"no\").str.replace(\"\\tyes\",\"yes\").str.replace(\" yes\",\"yes\")"
   ]
  },
  {
   "cell_type": "code",
   "execution_count": 17,
   "id": "dd6fb3e6",
   "metadata": {},
   "outputs": [
    {
     "data": {
      "text/plain": [
       "array(['no', 'yes', nan], dtype=object)"
      ]
     },
     "execution_count": 17,
     "metadata": {},
     "output_type": "execute_result"
    }
   ],
   "source": [
    "df['cad'].str.replace(\"\\tno\",\"no\").unique()"
   ]
  },
  {
   "cell_type": "code",
   "execution_count": 18,
   "id": "5e7d02fb",
   "metadata": {},
   "outputs": [],
   "source": [
    "df['cad']=df['cad'].str.replace(\"\\tno\",\"no\")"
   ]
  },
  {
   "cell_type": "code",
   "execution_count": 19,
   "id": "31059e3c",
   "metadata": {},
   "outputs": [
    {
     "data": {
      "text/plain": [
       "array(['ckd', 'notckd'], dtype=object)"
      ]
     },
     "execution_count": 19,
     "metadata": {},
     "output_type": "execute_result"
    }
   ],
   "source": [
    "df['classification'].str.replace(\"ckd\\t\",\"ckd\").unique()"
   ]
  },
  {
   "cell_type": "code",
   "execution_count": 20,
   "id": "f04e0c1a",
   "metadata": {},
   "outputs": [],
   "source": [
    "df['classification']=df['classification'].str.replace(\"ckd\\t\",\"ckd\")"
   ]
  },
  {
   "cell_type": "markdown",
   "id": "f14b2101",
   "metadata": {},
   "source": [
    "# MISSING VALUES"
   ]
  },
  {
   "cell_type": "code",
   "execution_count": 21,
   "id": "b5ab6f83",
   "metadata": {},
   "outputs": [],
   "source": [
    "df['age'].fillna(df['age'].median(),inplace = True)\n",
    "df['bp'].fillna(df['bp'].median(),inplace = True)\n",
    "df['sg'].fillna(df['sg'].mean(),inplace = True)\n",
    "df['al'].fillna(df['al'].median(),inplace = True)\n",
    "df['su'].fillna(df['su'].median(),inplace = True)\n",
    "df['rbc'].fillna(df['rbc'].mode()[0],inplace = True)\n",
    "df['pc'].fillna(df['pc'].mode()[0],inplace = True)\n",
    "df['pcc'].fillna(df['pcc'].mode()[0],inplace = True)\n",
    "df['ba'].fillna(df['ba'].mode()[0],inplace = True)\n",
    "df['bgr'].fillna(df['bgr'].median(),inplace = True)\n",
    "df['bu'].fillna(df['bu'].median(),inplace = True)\n",
    "df['sc'].fillna(df['sc'].median(),inplace = True)\n",
    "df['sod'].fillna(df['sod'].mean(),inplace = True)\n",
    "df['pot'].fillna(df['pot'].median(),inplace = True)\n",
    "df['hemo'].fillna(df['hemo'].mean(),inplace = True)\n",
    "df['pcv'].fillna(df['pcv'].mode()[0],inplace = True)\n",
    "df['wc'].fillna(df['wc'].mean(),inplace = True)\n",
    "df['rc'].fillna(df['rc'].mean(),inplace = True)\n",
    "df['htn'].fillna(df['htn'].mode()[0],inplace = True)\n",
    "df['dm'].fillna(df['dm'].mode()[0],inplace = True)\n",
    "df['cad'].fillna(df['cad'].mode()[0],inplace = True)\n",
    "df['appet'].fillna(df['appet'].mode()[0],inplace = True)\n",
    "df['pe'].fillna(df['pe'].mode()[0],inplace = True)\n",
    "df['ane'].fillna(df['ane'].mode()[0],inplace = True)\n",
    "df['classification'].fillna(df['classification'].mode()[0],inplace = True)"
   ]
  },
  {
   "cell_type": "code",
   "execution_count": 22,
   "id": "e6d80162",
   "metadata": {},
   "outputs": [],
   "source": [
    "df['age'] = df['age'].astype(int)\n",
    "df['bp'] = df['bp'].astype(int)\n",
    "df['al'] = df['al'].astype(int)\n",
    "df['su'] = df['su'].astype(int)\n",
    "df['bgr'] = df['bgr'].astype(int)\n",
    "df['bu'] = df['bu'].astype(float)\n",
    "df['sc'] = df['sc'].astype(float)\n",
    "df['sod'] = df['sod'].astype(float)\n",
    "df['pot'] = df['pot'].astype(int)\n",
    "df['hemo'] = df['hemo'].astype(int)\n",
    "df['pcv'] = df['pcv'].astype(int)"
   ]
  },
  {
   "cell_type": "code",
   "execution_count": 23,
   "id": "29f32087",
   "metadata": {},
   "outputs": [
    {
     "data": {
      "text/plain": [
       "age               0\n",
       "bp                0\n",
       "sg                0\n",
       "al                0\n",
       "su                0\n",
       "rbc               0\n",
       "pc                0\n",
       "pcc               0\n",
       "ba                0\n",
       "bgr               0\n",
       "bu                0\n",
       "sc                0\n",
       "sod               0\n",
       "pot               0\n",
       "hemo              0\n",
       "pcv               0\n",
       "wc                0\n",
       "rc                0\n",
       "htn               0\n",
       "dm                0\n",
       "cad               0\n",
       "appet             0\n",
       "pe                0\n",
       "ane               0\n",
       "classification    0\n",
       "dtype: int64"
      ]
     },
     "execution_count": 23,
     "metadata": {},
     "output_type": "execute_result"
    }
   ],
   "source": [
    "df.isnull().sum()"
   ]
  },
  {
   "cell_type": "markdown",
   "id": "965f1fd3",
   "metadata": {},
   "source": [
    "# EDA"
   ]
  },
  {
   "cell_type": "code",
   "execution_count": 24,
   "id": "f6f74937",
   "metadata": {},
   "outputs": [
    {
     "name": "stdout",
     "output_type": "stream",
     "text": [
      "age\n",
      ".......\n",
      "55    21\n",
      "60    19\n",
      "65    17\n",
      "48    12\n",
      "50    12\n",
      "      ..\n",
      "83     1\n",
      "27     1\n",
      "14     1\n",
      "81     1\n",
      "79     1\n",
      "Name: age, Length: 76, dtype: int64\n",
      "count    400.000000\n",
      "mean      51.562500\n",
      "std       16.982996\n",
      "min        2.000000\n",
      "25%       42.000000\n",
      "50%       55.000000\n",
      "75%       64.000000\n",
      "max       90.000000\n",
      "Name: age, dtype: float64\n",
      "bp\n",
      ".......\n",
      "80     128\n",
      "70     112\n",
      "60      71\n",
      "90      53\n",
      "100     25\n",
      "50       5\n",
      "110      3\n",
      "140      1\n",
      "180      1\n",
      "120      1\n",
      "Name: bp, dtype: int64\n",
      "count    400.000000\n",
      "mean      76.575000\n",
      "std       13.489785\n",
      "min       50.000000\n",
      "25%       70.000000\n",
      "50%       80.000000\n",
      "75%       80.000000\n",
      "max      180.000000\n",
      "Name: bp, dtype: float64\n",
      "sg\n",
      ".........\n",
      "count    400.000000\n",
      "mean       1.017408\n",
      "std        0.005369\n",
      "min        1.005000\n",
      "25%        1.015000\n",
      "50%        1.017408\n",
      "75%        1.020000\n",
      "max        1.025000\n",
      "Name: sg, dtype: float64\n",
      "al\n",
      ".......\n",
      "0    245\n",
      "1     44\n",
      "2     43\n",
      "3     43\n",
      "4     24\n",
      "5      1\n",
      "Name: al, dtype: int64\n",
      "count    400.00000\n",
      "mean       0.90000\n",
      "std        1.31313\n",
      "min        0.00000\n",
      "25%        0.00000\n",
      "50%        0.00000\n",
      "75%        2.00000\n",
      "max        5.00000\n",
      "Name: al, dtype: float64\n",
      "su\n",
      ".......\n",
      "0    339\n",
      "2     18\n",
      "3     14\n",
      "4     13\n",
      "1     13\n",
      "5      3\n",
      "Name: su, dtype: int64\n",
      "count    400.000000\n",
      "mean       0.395000\n",
      "std        1.040038\n",
      "min        0.000000\n",
      "25%        0.000000\n",
      "50%        0.000000\n",
      "75%        0.000000\n",
      "max        5.000000\n",
      "Name: su, dtype: float64\n",
      "rbc\n",
      ".......\n",
      "normal      353\n",
      "abnormal     47\n",
      "Name: rbc, dtype: int64\n",
      "pc\n",
      ".......\n",
      "normal      324\n",
      "abnormal     76\n",
      "Name: pc, dtype: int64\n",
      "pcc\n",
      ".......\n",
      "notpresent    358\n",
      "present        42\n",
      "Name: pcc, dtype: int64\n",
      "ba\n",
      ".......\n",
      "notpresent    378\n",
      "present        22\n",
      "Name: ba, dtype: int64\n",
      "bgr\n",
      ".......\n",
      "121    48\n",
      "99     10\n",
      "100     9\n",
      "93      9\n",
      "107     8\n",
      "       ..\n",
      "288     1\n",
      "182     1\n",
      "84      1\n",
      "256     1\n",
      "226     1\n",
      "Name: bgr, Length: 146, dtype: int64\n",
      "count    400.000000\n",
      "mean     145.062500\n",
      "std       75.260774\n",
      "min       22.000000\n",
      "25%      101.000000\n",
      "50%      121.000000\n",
      "75%      150.000000\n",
      "max      490.000000\n",
      "Name: bgr, dtype: float64\n",
      "bu\n",
      ".........\n",
      "count    400.000000\n",
      "mean      56.693000\n",
      "std       49.395258\n",
      "min        1.500000\n",
      "25%       27.000000\n",
      "50%       42.000000\n",
      "75%       61.750000\n",
      "max      391.000000\n",
      "Name: bu, dtype: float64\n",
      "sc\n",
      ".........\n",
      "count    400.000000\n",
      "mean       2.997125\n",
      "std        5.628886\n",
      "min        0.400000\n",
      "25%        0.900000\n",
      "50%        1.300000\n",
      "75%        2.725000\n",
      "max       76.000000\n",
      "Name: sc, dtype: float64\n",
      "sod\n",
      ".........\n",
      "count    400.000000\n",
      "mean     137.528754\n",
      "std        9.204273\n",
      "min        4.500000\n",
      "25%      135.000000\n",
      "50%      137.528754\n",
      "75%      141.000000\n",
      "max      163.000000\n",
      "Name: sod, dtype: float64\n",
      "pot\n",
      ".......\n",
      "4     236\n",
      "3      91\n",
      "5      56\n",
      "2       7\n",
      "6       7\n",
      "39      1\n",
      "7       1\n",
      "47      1\n",
      "Name: pot, dtype: int64\n",
      "count    400.000000\n",
      "mean       4.115000\n",
      "std        2.867461\n",
      "min        2.000000\n",
      "25%        4.000000\n",
      "50%        4.000000\n",
      "75%        4.000000\n",
      "max       47.000000\n",
      "Name: pot, dtype: float64\n",
      "hemo\n",
      ".......\n",
      "12    84\n",
      "15    47\n",
      "13    44\n",
      "11    39\n",
      "10    36\n",
      "14    35\n",
      "9     32\n",
      "16    26\n",
      "8     18\n",
      "17    17\n",
      "7     10\n",
      "6      7\n",
      "5      3\n",
      "4      1\n",
      "3      1\n",
      "Name: hemo, dtype: int64\n",
      "count    400.0000\n",
      "mean      12.0875\n",
      "std        2.7411\n",
      "min        3.0000\n",
      "25%       10.0000\n",
      "50%       12.0000\n",
      "75%       14.0000\n",
      "max       17.0000\n",
      "Name: hemo, dtype: float64\n",
      "pcv\n",
      ".......\n",
      "41    92\n",
      "52    21\n",
      "44    19\n",
      "48    19\n",
      "40    16\n",
      "43    15\n",
      "45    13\n",
      "42    13\n",
      "33    12\n",
      "50    12\n",
      "32    12\n",
      "36    12\n",
      "28    12\n",
      "37    11\n",
      "34    11\n",
      "35     9\n",
      "29     9\n",
      "46     9\n",
      "30     9\n",
      "31     8\n",
      "24     7\n",
      "39     7\n",
      "26     6\n",
      "38     5\n",
      "51     4\n",
      "53     4\n",
      "49     4\n",
      "47     4\n",
      "54     4\n",
      "25     3\n",
      "22     3\n",
      "27     3\n",
      "19     2\n",
      "23     2\n",
      "15     1\n",
      "21     1\n",
      "20     1\n",
      "17     1\n",
      "9      1\n",
      "18     1\n",
      "16     1\n",
      "14     1\n",
      "Name: pcv, dtype: int64\n",
      "count    400.000000\n",
      "mean      39.260000\n",
      "std        8.191162\n",
      "min        9.000000\n",
      "25%       34.000000\n",
      "50%       41.000000\n",
      "75%       44.000000\n",
      "max       54.000000\n",
      "Name: pcv, dtype: float64\n",
      "wc\n",
      ".........\n",
      "count      400.000000\n",
      "mean      8406.122449\n",
      "std       2523.219976\n",
      "min       2200.000000\n",
      "25%       6975.000000\n",
      "50%       8406.122449\n",
      "75%       9400.000000\n",
      "max      26400.000000\n",
      "Name: wc, dtype: float64\n",
      "rc\n",
      ".........\n",
      "count    400.000000\n",
      "mean       4.707435\n",
      "std        0.840314\n",
      "min        2.100000\n",
      "25%        4.500000\n",
      "50%        4.707435\n",
      "75%        5.100000\n",
      "max        8.000000\n",
      "Name: rc, dtype: float64\n",
      "htn\n",
      ".......\n",
      "no     253\n",
      "yes    147\n",
      "Name: htn, dtype: int64\n",
      "dm\n",
      ".......\n",
      "no     263\n",
      "yes    137\n",
      "Name: dm, dtype: int64\n",
      "cad\n",
      ".......\n",
      "no     366\n",
      "yes     34\n",
      "Name: cad, dtype: int64\n",
      "appet\n",
      ".......\n",
      "good    318\n",
      "poor     82\n",
      "Name: appet, dtype: int64\n",
      "pe\n",
      ".......\n",
      "no     324\n",
      "yes     76\n",
      "Name: pe, dtype: int64\n",
      "ane\n",
      ".......\n",
      "no     340\n",
      "yes     60\n",
      "Name: ane, dtype: int64\n",
      "classification\n",
      ".......\n",
      "ckd       250\n",
      "notckd    150\n",
      "Name: classification, dtype: int64\n"
     ]
    }
   ],
   "source": [
    "for i in df.columns:\n",
    "    if df[i].dtype == 'int32' or df[i].dtype =='int64':\n",
    "        print(i)\n",
    "        print('.......')\n",
    "        print(df[i].value_counts())\n",
    "        print(df[i].describe())\n",
    "    elif df[i].dtype == 'float64':\n",
    "        print(i)\n",
    "        print('.........')\n",
    "        print(df[i].describe())\n",
    "    elif df[i].dtype == 'object':\n",
    "        print(i)\n",
    "        print('.......')\n",
    "        print(df[i].value_counts())\n",
    "        "
   ]
  },
  {
   "cell_type": "markdown",
   "id": "b0930fa4",
   "metadata": {},
   "source": [
    "UNIVAIRATE INSIGHTS:\n",
    "\n",
    "\n",
    "    * Most of the people are of age 50 and above\n",
    "    * Most of the people have bp around 70 to 80 and outliers are present.\n",
    "    * There is no much difference in the specific gravity,min,25%,50%,75% are mostly same.\n",
    "    * Most of the people have 60 and above percentage of Albumin\n",
    "    * Most of the people does not have sugar.\n",
    "    * Most of the people rbc are normal\n",
    "    * Most of the people pc are normal\n",
    "    * Most of the people does not have pcc\n",
    "    * Most of the people does not have bacteria\n",
    "    * 121 is the blood glucose random level present in most of the people.\n",
    "    * 42 is the blood urea level observed in most of the people\n",
    "    * Most of the people have serum creatinine have 1.2\n",
    "    * Average sodium percentage is 137.52\n",
    "    * Most of the people have 4,3, and 5 % levels of potasssium\n",
    "    * Most of the people have 12% of hemoglobin\n",
    "    * Average of pcv is 39.2\n",
    "    * Average of wc is 8406\n",
    "    * Average of rc is 4.7\n",
    "    * Most of the people does not hypertention\n",
    "    * Most of the people does not diabiates\n",
    "    * Most of the people does not cod\n",
    "    * Most of the people are Maintaining good Appetite\n",
    "    * Most of the people does not pedal edema\n",
    "    * Most of the people does not anemia"
   ]
  },
  {
   "cell_type": "markdown",
   "id": "bc20815c",
   "metadata": {},
   "source": [
    "BI-VARIATE ANALAYSIS"
   ]
  },
  {
   "cell_type": "code",
   "execution_count": 25,
   "id": "339b2832",
   "metadata": {},
   "outputs": [
    {
     "data": {
      "text/plain": [
       "classification\n",
       "ckd       79.640000\n",
       "notckd    71.466667\n",
       "Name: bp, dtype: float64"
      ]
     },
     "execution_count": 25,
     "metadata": {},
     "output_type": "execute_result"
    }
   ],
   "source": [
    "df.groupby(['classification'])['bp'].mean()"
   ]
  },
  {
   "cell_type": "code",
   "execution_count": 26,
   "id": "172d04a4",
   "metadata": {},
   "outputs": [
    {
     "data": {
      "text/plain": [
       "classification\n",
       "ckd       1.014505\n",
       "notckd    1.022247\n",
       "Name: sg, dtype: float64"
      ]
     },
     "execution_count": 26,
     "metadata": {},
     "output_type": "execute_result"
    }
   ],
   "source": [
    "df.groupby(['classification'])['sg'].mean()"
   ]
  },
  {
   "cell_type": "code",
   "execution_count": 27,
   "id": "65d75744",
   "metadata": {},
   "outputs": [
    {
     "data": {
      "text/plain": [
       "classification\n",
       "ckd       1.44\n",
       "notckd    0.00\n",
       "Name: al, dtype: float64"
      ]
     },
     "execution_count": 27,
     "metadata": {},
     "output_type": "execute_result"
    }
   ],
   "source": [
    "df.groupby(['classification'])['al'].mean()"
   ]
  },
  {
   "cell_type": "code",
   "execution_count": 28,
   "id": "d2a5e3ab",
   "metadata": {},
   "outputs": [
    {
     "data": {
      "text/plain": [
       "classification\n",
       "ckd       0.632\n",
       "notckd    0.000\n",
       "Name: su, dtype: float64"
      ]
     },
     "execution_count": 28,
     "metadata": {},
     "output_type": "execute_result"
    }
   ],
   "source": [
    "df.groupby(['classification'])['su'].mean()"
   ]
  },
  {
   "cell_type": "code",
   "execution_count": 29,
   "id": "71a7bf48",
   "metadata": {},
   "outputs": [
    {
     "data": {
      "text/plain": [
       "classification\n",
       "ckd       167.148000\n",
       "notckd    108.253333\n",
       "Name: bgr, dtype: float64"
      ]
     },
     "execution_count": 29,
     "metadata": {},
     "output_type": "execute_result"
    }
   ],
   "source": [
    "df.groupby(['classification'])['bgr'].mean()"
   ]
  },
  {
   "cell_type": "code",
   "execution_count": 30,
   "id": "485cc884",
   "metadata": {},
   "outputs": [
    {
     "data": {
      "text/plain": [
       "classification\n",
       "ckd       70.808800\n",
       "notckd    33.166667\n",
       "Name: bu, dtype: float64"
      ]
     },
     "execution_count": 30,
     "metadata": {},
     "output_type": "execute_result"
    }
   ],
   "source": [
    "df.groupby(['classification'])['bu'].mean()"
   ]
  },
  {
   "cell_type": "code",
   "execution_count": 31,
   "id": "c9b952e1",
   "metadata": {},
   "outputs": [
    {
     "data": {
      "text/plain": [
       "classification\n",
       "ckd       4.265400\n",
       "notckd    0.883333\n",
       "Name: sc, dtype: float64"
      ]
     },
     "execution_count": 31,
     "metadata": {},
     "output_type": "execute_result"
    }
   ],
   "source": [
    "df.groupby(['classification'])['sc'].mean()"
   ]
  },
  {
   "cell_type": "code",
   "execution_count": 32,
   "id": "b1861d52",
   "metadata": {},
   "outputs": [
    {
     "data": {
      "text/plain": [
       "classification\n",
       "ckd       135.091431\n",
       "notckd    141.590958\n",
       "Name: sod, dtype: float64"
      ]
     },
     "execution_count": 32,
     "metadata": {},
     "output_type": "execute_result"
    }
   ],
   "source": [
    "df.groupby(['classification'])['sod'].mean()"
   ]
  },
  {
   "cell_type": "code",
   "execution_count": 33,
   "id": "72a3d1ac",
   "metadata": {},
   "outputs": [
    {
     "data": {
      "text/plain": [
       "classification\n",
       "ckd       4.272000\n",
       "notckd    3.853333\n",
       "Name: pot, dtype: float64"
      ]
     },
     "execution_count": 33,
     "metadata": {},
     "output_type": "execute_result"
    }
   ],
   "source": [
    "df.groupby(['classification'])['pot'].mean()"
   ]
  },
  {
   "cell_type": "code",
   "execution_count": 34,
   "id": "7e96abce",
   "metadata": {},
   "outputs": [
    {
     "data": {
      "text/plain": [
       "classification\n",
       "ckd       10.548000\n",
       "notckd    14.653333\n",
       "Name: hemo, dtype: float64"
      ]
     },
     "execution_count": 34,
     "metadata": {},
     "output_type": "execute_result"
    }
   ],
   "source": [
    "df.groupby(['classification'])['hemo'].mean()"
   ]
  },
  {
   "cell_type": "code",
   "execution_count": 35,
   "id": "8b5a1b92",
   "metadata": {},
   "outputs": [
    {
     "data": {
      "text/plain": [
       "classification\n",
       "ckd       35.100000\n",
       "notckd    46.193333\n",
       "Name: pcv, dtype: float64"
      ]
     },
     "execution_count": 35,
     "metadata": {},
     "output_type": "execute_result"
    }
   ],
   "source": [
    "df.groupby(['classification'])['pcv'].mean()"
   ]
  },
  {
   "cell_type": "code",
   "execution_count": 36,
   "id": "733e377d",
   "metadata": {},
   "outputs": [
    {
     "data": {
      "text/plain": [
       "classification\n",
       "ckd       8806.824490\n",
       "notckd    7738.285714\n",
       "Name: wc, dtype: float64"
      ]
     },
     "execution_count": 36,
     "metadata": {},
     "output_type": "execute_result"
    }
   ],
   "source": [
    "df.groupby(['classification'])['wc'].mean()"
   ]
  },
  {
   "cell_type": "code",
   "execution_count": 37,
   "id": "b79813c9",
   "metadata": {},
   "outputs": [
    {
     "data": {
      "text/plain": [
       "classification\n",
       "ckd       4.323288\n",
       "notckd    5.347680\n",
       "Name: rc, dtype: float64"
      ]
     },
     "execution_count": 37,
     "metadata": {},
     "output_type": "execute_result"
    }
   ],
   "source": [
    "df.groupby(['classification'])['rc'].mean()"
   ]
  },
  {
   "cell_type": "code",
   "execution_count": 38,
   "id": "b347d110",
   "metadata": {},
   "outputs": [
    {
     "data": {
      "text/html": [
       "<div>\n",
       "<style scoped>\n",
       "    .dataframe tbody tr th:only-of-type {\n",
       "        vertical-align: middle;\n",
       "    }\n",
       "\n",
       "    .dataframe tbody tr th {\n",
       "        vertical-align: top;\n",
       "    }\n",
       "\n",
       "    .dataframe thead th {\n",
       "        text-align: right;\n",
       "    }\n",
       "</style>\n",
       "<table border=\"1\" class=\"dataframe\">\n",
       "  <thead>\n",
       "    <tr style=\"text-align: right;\">\n",
       "      <th>rbc</th>\n",
       "      <th>abnormal</th>\n",
       "      <th>normal</th>\n",
       "      <th>All</th>\n",
       "    </tr>\n",
       "    <tr>\n",
       "      <th>classification</th>\n",
       "      <th></th>\n",
       "      <th></th>\n",
       "      <th></th>\n",
       "    </tr>\n",
       "  </thead>\n",
       "  <tbody>\n",
       "    <tr>\n",
       "      <th>ckd</th>\n",
       "      <td>47</td>\n",
       "      <td>203</td>\n",
       "      <td>250</td>\n",
       "    </tr>\n",
       "    <tr>\n",
       "      <th>notckd</th>\n",
       "      <td>0</td>\n",
       "      <td>150</td>\n",
       "      <td>150</td>\n",
       "    </tr>\n",
       "    <tr>\n",
       "      <th>All</th>\n",
       "      <td>47</td>\n",
       "      <td>353</td>\n",
       "      <td>400</td>\n",
       "    </tr>\n",
       "  </tbody>\n",
       "</table>\n",
       "</div>"
      ],
      "text/plain": [
       "rbc             abnormal  normal  All\n",
       "classification                       \n",
       "ckd                   47     203  250\n",
       "notckd                 0     150  150\n",
       "All                   47     353  400"
      ]
     },
     "execution_count": 38,
     "metadata": {},
     "output_type": "execute_result"
    }
   ],
   "source": [
    "#C_C\n",
    "pd.crosstab(df.classification, df.rbc, margins=True)"
   ]
  },
  {
   "cell_type": "code",
   "execution_count": 39,
   "id": "7d28e2e4",
   "metadata": {},
   "outputs": [
    {
     "data": {
      "text/html": [
       "<div>\n",
       "<style scoped>\n",
       "    .dataframe tbody tr th:only-of-type {\n",
       "        vertical-align: middle;\n",
       "    }\n",
       "\n",
       "    .dataframe tbody tr th {\n",
       "        vertical-align: top;\n",
       "    }\n",
       "\n",
       "    .dataframe thead th {\n",
       "        text-align: right;\n",
       "    }\n",
       "</style>\n",
       "<table border=\"1\" class=\"dataframe\">\n",
       "  <thead>\n",
       "    <tr style=\"text-align: right;\">\n",
       "      <th>pc</th>\n",
       "      <th>abnormal</th>\n",
       "      <th>normal</th>\n",
       "      <th>All</th>\n",
       "    </tr>\n",
       "    <tr>\n",
       "      <th>classification</th>\n",
       "      <th></th>\n",
       "      <th></th>\n",
       "      <th></th>\n",
       "    </tr>\n",
       "  </thead>\n",
       "  <tbody>\n",
       "    <tr>\n",
       "      <th>ckd</th>\n",
       "      <td>76</td>\n",
       "      <td>174</td>\n",
       "      <td>250</td>\n",
       "    </tr>\n",
       "    <tr>\n",
       "      <th>notckd</th>\n",
       "      <td>0</td>\n",
       "      <td>150</td>\n",
       "      <td>150</td>\n",
       "    </tr>\n",
       "    <tr>\n",
       "      <th>All</th>\n",
       "      <td>76</td>\n",
       "      <td>324</td>\n",
       "      <td>400</td>\n",
       "    </tr>\n",
       "  </tbody>\n",
       "</table>\n",
       "</div>"
      ],
      "text/plain": [
       "pc              abnormal  normal  All\n",
       "classification                       \n",
       "ckd                   76     174  250\n",
       "notckd                 0     150  150\n",
       "All                   76     324  400"
      ]
     },
     "execution_count": 39,
     "metadata": {},
     "output_type": "execute_result"
    }
   ],
   "source": [
    "pd.crosstab(df.classification, df.pc, margins=True)"
   ]
  },
  {
   "cell_type": "code",
   "execution_count": 40,
   "id": "fdec45d9",
   "metadata": {},
   "outputs": [
    {
     "data": {
      "text/html": [
       "<div>\n",
       "<style scoped>\n",
       "    .dataframe tbody tr th:only-of-type {\n",
       "        vertical-align: middle;\n",
       "    }\n",
       "\n",
       "    .dataframe tbody tr th {\n",
       "        vertical-align: top;\n",
       "    }\n",
       "\n",
       "    .dataframe thead th {\n",
       "        text-align: right;\n",
       "    }\n",
       "</style>\n",
       "<table border=\"1\" class=\"dataframe\">\n",
       "  <thead>\n",
       "    <tr style=\"text-align: right;\">\n",
       "      <th>pcc</th>\n",
       "      <th>notpresent</th>\n",
       "      <th>present</th>\n",
       "      <th>All</th>\n",
       "    </tr>\n",
       "    <tr>\n",
       "      <th>classification</th>\n",
       "      <th></th>\n",
       "      <th></th>\n",
       "      <th></th>\n",
       "    </tr>\n",
       "  </thead>\n",
       "  <tbody>\n",
       "    <tr>\n",
       "      <th>ckd</th>\n",
       "      <td>208</td>\n",
       "      <td>42</td>\n",
       "      <td>250</td>\n",
       "    </tr>\n",
       "    <tr>\n",
       "      <th>notckd</th>\n",
       "      <td>150</td>\n",
       "      <td>0</td>\n",
       "      <td>150</td>\n",
       "    </tr>\n",
       "    <tr>\n",
       "      <th>All</th>\n",
       "      <td>358</td>\n",
       "      <td>42</td>\n",
       "      <td>400</td>\n",
       "    </tr>\n",
       "  </tbody>\n",
       "</table>\n",
       "</div>"
      ],
      "text/plain": [
       "pcc             notpresent  present  All\n",
       "classification                          \n",
       "ckd                    208       42  250\n",
       "notckd                 150        0  150\n",
       "All                    358       42  400"
      ]
     },
     "execution_count": 40,
     "metadata": {},
     "output_type": "execute_result"
    }
   ],
   "source": [
    "pd.crosstab(df.classification, df.pcc, margins=True)"
   ]
  },
  {
   "cell_type": "code",
   "execution_count": 41,
   "id": "0fe33926",
   "metadata": {},
   "outputs": [
    {
     "data": {
      "text/html": [
       "<div>\n",
       "<style scoped>\n",
       "    .dataframe tbody tr th:only-of-type {\n",
       "        vertical-align: middle;\n",
       "    }\n",
       "\n",
       "    .dataframe tbody tr th {\n",
       "        vertical-align: top;\n",
       "    }\n",
       "\n",
       "    .dataframe thead th {\n",
       "        text-align: right;\n",
       "    }\n",
       "</style>\n",
       "<table border=\"1\" class=\"dataframe\">\n",
       "  <thead>\n",
       "    <tr style=\"text-align: right;\">\n",
       "      <th>ba</th>\n",
       "      <th>notpresent</th>\n",
       "      <th>present</th>\n",
       "      <th>All</th>\n",
       "    </tr>\n",
       "    <tr>\n",
       "      <th>classification</th>\n",
       "      <th></th>\n",
       "      <th></th>\n",
       "      <th></th>\n",
       "    </tr>\n",
       "  </thead>\n",
       "  <tbody>\n",
       "    <tr>\n",
       "      <th>ckd</th>\n",
       "      <td>228</td>\n",
       "      <td>22</td>\n",
       "      <td>250</td>\n",
       "    </tr>\n",
       "    <tr>\n",
       "      <th>notckd</th>\n",
       "      <td>150</td>\n",
       "      <td>0</td>\n",
       "      <td>150</td>\n",
       "    </tr>\n",
       "    <tr>\n",
       "      <th>All</th>\n",
       "      <td>378</td>\n",
       "      <td>22</td>\n",
       "      <td>400</td>\n",
       "    </tr>\n",
       "  </tbody>\n",
       "</table>\n",
       "</div>"
      ],
      "text/plain": [
       "ba              notpresent  present  All\n",
       "classification                          \n",
       "ckd                    228       22  250\n",
       "notckd                 150        0  150\n",
       "All                    378       22  400"
      ]
     },
     "execution_count": 41,
     "metadata": {},
     "output_type": "execute_result"
    }
   ],
   "source": [
    "pd.crosstab(df.classification, df.ba, margins=True)"
   ]
  },
  {
   "cell_type": "code",
   "execution_count": 42,
   "id": "274f044e",
   "metadata": {},
   "outputs": [
    {
     "data": {
      "text/html": [
       "<div>\n",
       "<style scoped>\n",
       "    .dataframe tbody tr th:only-of-type {\n",
       "        vertical-align: middle;\n",
       "    }\n",
       "\n",
       "    .dataframe tbody tr th {\n",
       "        vertical-align: top;\n",
       "    }\n",
       "\n",
       "    .dataframe thead th {\n",
       "        text-align: right;\n",
       "    }\n",
       "</style>\n",
       "<table border=\"1\" class=\"dataframe\">\n",
       "  <thead>\n",
       "    <tr style=\"text-align: right;\">\n",
       "      <th>htn</th>\n",
       "      <th>no</th>\n",
       "      <th>yes</th>\n",
       "      <th>All</th>\n",
       "    </tr>\n",
       "    <tr>\n",
       "      <th>classification</th>\n",
       "      <th></th>\n",
       "      <th></th>\n",
       "      <th></th>\n",
       "    </tr>\n",
       "  </thead>\n",
       "  <tbody>\n",
       "    <tr>\n",
       "      <th>ckd</th>\n",
       "      <td>103</td>\n",
       "      <td>147</td>\n",
       "      <td>250</td>\n",
       "    </tr>\n",
       "    <tr>\n",
       "      <th>notckd</th>\n",
       "      <td>150</td>\n",
       "      <td>0</td>\n",
       "      <td>150</td>\n",
       "    </tr>\n",
       "    <tr>\n",
       "      <th>All</th>\n",
       "      <td>253</td>\n",
       "      <td>147</td>\n",
       "      <td>400</td>\n",
       "    </tr>\n",
       "  </tbody>\n",
       "</table>\n",
       "</div>"
      ],
      "text/plain": [
       "htn              no  yes  All\n",
       "classification               \n",
       "ckd             103  147  250\n",
       "notckd          150    0  150\n",
       "All             253  147  400"
      ]
     },
     "execution_count": 42,
     "metadata": {},
     "output_type": "execute_result"
    }
   ],
   "source": [
    "pd.crosstab(df.classification, df.htn, margins=True)"
   ]
  },
  {
   "cell_type": "code",
   "execution_count": 43,
   "id": "1429ff3a",
   "metadata": {},
   "outputs": [
    {
     "data": {
      "text/html": [
       "<div>\n",
       "<style scoped>\n",
       "    .dataframe tbody tr th:only-of-type {\n",
       "        vertical-align: middle;\n",
       "    }\n",
       "\n",
       "    .dataframe tbody tr th {\n",
       "        vertical-align: top;\n",
       "    }\n",
       "\n",
       "    .dataframe thead th {\n",
       "        text-align: right;\n",
       "    }\n",
       "</style>\n",
       "<table border=\"1\" class=\"dataframe\">\n",
       "  <thead>\n",
       "    <tr style=\"text-align: right;\">\n",
       "      <th>dm</th>\n",
       "      <th>no</th>\n",
       "      <th>yes</th>\n",
       "      <th>All</th>\n",
       "    </tr>\n",
       "    <tr>\n",
       "      <th>classification</th>\n",
       "      <th></th>\n",
       "      <th></th>\n",
       "      <th></th>\n",
       "    </tr>\n",
       "  </thead>\n",
       "  <tbody>\n",
       "    <tr>\n",
       "      <th>ckd</th>\n",
       "      <td>113</td>\n",
       "      <td>137</td>\n",
       "      <td>250</td>\n",
       "    </tr>\n",
       "    <tr>\n",
       "      <th>notckd</th>\n",
       "      <td>150</td>\n",
       "      <td>0</td>\n",
       "      <td>150</td>\n",
       "    </tr>\n",
       "    <tr>\n",
       "      <th>All</th>\n",
       "      <td>263</td>\n",
       "      <td>137</td>\n",
       "      <td>400</td>\n",
       "    </tr>\n",
       "  </tbody>\n",
       "</table>\n",
       "</div>"
      ],
      "text/plain": [
       "dm               no  yes  All\n",
       "classification               \n",
       "ckd             113  137  250\n",
       "notckd          150    0  150\n",
       "All             263  137  400"
      ]
     },
     "execution_count": 43,
     "metadata": {},
     "output_type": "execute_result"
    }
   ],
   "source": [
    "pd.crosstab(df.classification, df.dm, margins=True)"
   ]
  },
  {
   "cell_type": "code",
   "execution_count": 44,
   "id": "7d75a692",
   "metadata": {},
   "outputs": [
    {
     "data": {
      "text/html": [
       "<div>\n",
       "<style scoped>\n",
       "    .dataframe tbody tr th:only-of-type {\n",
       "        vertical-align: middle;\n",
       "    }\n",
       "\n",
       "    .dataframe tbody tr th {\n",
       "        vertical-align: top;\n",
       "    }\n",
       "\n",
       "    .dataframe thead th {\n",
       "        text-align: right;\n",
       "    }\n",
       "</style>\n",
       "<table border=\"1\" class=\"dataframe\">\n",
       "  <thead>\n",
       "    <tr style=\"text-align: right;\">\n",
       "      <th>cad</th>\n",
       "      <th>no</th>\n",
       "      <th>yes</th>\n",
       "      <th>All</th>\n",
       "    </tr>\n",
       "    <tr>\n",
       "      <th>classification</th>\n",
       "      <th></th>\n",
       "      <th></th>\n",
       "      <th></th>\n",
       "    </tr>\n",
       "  </thead>\n",
       "  <tbody>\n",
       "    <tr>\n",
       "      <th>ckd</th>\n",
       "      <td>216</td>\n",
       "      <td>34</td>\n",
       "      <td>250</td>\n",
       "    </tr>\n",
       "    <tr>\n",
       "      <th>notckd</th>\n",
       "      <td>150</td>\n",
       "      <td>0</td>\n",
       "      <td>150</td>\n",
       "    </tr>\n",
       "    <tr>\n",
       "      <th>All</th>\n",
       "      <td>366</td>\n",
       "      <td>34</td>\n",
       "      <td>400</td>\n",
       "    </tr>\n",
       "  </tbody>\n",
       "</table>\n",
       "</div>"
      ],
      "text/plain": [
       "cad              no  yes  All\n",
       "classification               \n",
       "ckd             216   34  250\n",
       "notckd          150    0  150\n",
       "All             366   34  400"
      ]
     },
     "execution_count": 44,
     "metadata": {},
     "output_type": "execute_result"
    }
   ],
   "source": [
    "pd.crosstab(df.classification, df.cad, margins=True)"
   ]
  },
  {
   "cell_type": "code",
   "execution_count": 45,
   "id": "53f5ee6d",
   "metadata": {},
   "outputs": [
    {
     "data": {
      "text/html": [
       "<div>\n",
       "<style scoped>\n",
       "    .dataframe tbody tr th:only-of-type {\n",
       "        vertical-align: middle;\n",
       "    }\n",
       "\n",
       "    .dataframe tbody tr th {\n",
       "        vertical-align: top;\n",
       "    }\n",
       "\n",
       "    .dataframe thead th {\n",
       "        text-align: right;\n",
       "    }\n",
       "</style>\n",
       "<table border=\"1\" class=\"dataframe\">\n",
       "  <thead>\n",
       "    <tr style=\"text-align: right;\">\n",
       "      <th>appet</th>\n",
       "      <th>good</th>\n",
       "      <th>poor</th>\n",
       "      <th>All</th>\n",
       "    </tr>\n",
       "    <tr>\n",
       "      <th>classification</th>\n",
       "      <th></th>\n",
       "      <th></th>\n",
       "      <th></th>\n",
       "    </tr>\n",
       "  </thead>\n",
       "  <tbody>\n",
       "    <tr>\n",
       "      <th>ckd</th>\n",
       "      <td>168</td>\n",
       "      <td>82</td>\n",
       "      <td>250</td>\n",
       "    </tr>\n",
       "    <tr>\n",
       "      <th>notckd</th>\n",
       "      <td>150</td>\n",
       "      <td>0</td>\n",
       "      <td>150</td>\n",
       "    </tr>\n",
       "    <tr>\n",
       "      <th>All</th>\n",
       "      <td>318</td>\n",
       "      <td>82</td>\n",
       "      <td>400</td>\n",
       "    </tr>\n",
       "  </tbody>\n",
       "</table>\n",
       "</div>"
      ],
      "text/plain": [
       "appet           good  poor  All\n",
       "classification                 \n",
       "ckd              168    82  250\n",
       "notckd           150     0  150\n",
       "All              318    82  400"
      ]
     },
     "execution_count": 45,
     "metadata": {},
     "output_type": "execute_result"
    }
   ],
   "source": [
    "pd.crosstab(df.classification, df.appet, margins=True)"
   ]
  },
  {
   "cell_type": "code",
   "execution_count": 46,
   "id": "4abd78ea",
   "metadata": {},
   "outputs": [
    {
     "data": {
      "text/html": [
       "<div>\n",
       "<style scoped>\n",
       "    .dataframe tbody tr th:only-of-type {\n",
       "        vertical-align: middle;\n",
       "    }\n",
       "\n",
       "    .dataframe tbody tr th {\n",
       "        vertical-align: top;\n",
       "    }\n",
       "\n",
       "    .dataframe thead th {\n",
       "        text-align: right;\n",
       "    }\n",
       "</style>\n",
       "<table border=\"1\" class=\"dataframe\">\n",
       "  <thead>\n",
       "    <tr style=\"text-align: right;\">\n",
       "      <th>pe</th>\n",
       "      <th>no</th>\n",
       "      <th>yes</th>\n",
       "      <th>All</th>\n",
       "    </tr>\n",
       "    <tr>\n",
       "      <th>classification</th>\n",
       "      <th></th>\n",
       "      <th></th>\n",
       "      <th></th>\n",
       "    </tr>\n",
       "  </thead>\n",
       "  <tbody>\n",
       "    <tr>\n",
       "      <th>ckd</th>\n",
       "      <td>174</td>\n",
       "      <td>76</td>\n",
       "      <td>250</td>\n",
       "    </tr>\n",
       "    <tr>\n",
       "      <th>notckd</th>\n",
       "      <td>150</td>\n",
       "      <td>0</td>\n",
       "      <td>150</td>\n",
       "    </tr>\n",
       "    <tr>\n",
       "      <th>All</th>\n",
       "      <td>324</td>\n",
       "      <td>76</td>\n",
       "      <td>400</td>\n",
       "    </tr>\n",
       "  </tbody>\n",
       "</table>\n",
       "</div>"
      ],
      "text/plain": [
       "pe               no  yes  All\n",
       "classification               \n",
       "ckd             174   76  250\n",
       "notckd          150    0  150\n",
       "All             324   76  400"
      ]
     },
     "execution_count": 46,
     "metadata": {},
     "output_type": "execute_result"
    }
   ],
   "source": [
    "pd.crosstab(df.classification, df.pe, margins=True)"
   ]
  },
  {
   "cell_type": "code",
   "execution_count": 47,
   "id": "78434918",
   "metadata": {},
   "outputs": [
    {
     "data": {
      "text/html": [
       "<div>\n",
       "<style scoped>\n",
       "    .dataframe tbody tr th:only-of-type {\n",
       "        vertical-align: middle;\n",
       "    }\n",
       "\n",
       "    .dataframe tbody tr th {\n",
       "        vertical-align: top;\n",
       "    }\n",
       "\n",
       "    .dataframe thead th {\n",
       "        text-align: right;\n",
       "    }\n",
       "</style>\n",
       "<table border=\"1\" class=\"dataframe\">\n",
       "  <thead>\n",
       "    <tr style=\"text-align: right;\">\n",
       "      <th>ane</th>\n",
       "      <th>no</th>\n",
       "      <th>yes</th>\n",
       "      <th>All</th>\n",
       "    </tr>\n",
       "    <tr>\n",
       "      <th>classification</th>\n",
       "      <th></th>\n",
       "      <th></th>\n",
       "      <th></th>\n",
       "    </tr>\n",
       "  </thead>\n",
       "  <tbody>\n",
       "    <tr>\n",
       "      <th>ckd</th>\n",
       "      <td>190</td>\n",
       "      <td>60</td>\n",
       "      <td>250</td>\n",
       "    </tr>\n",
       "    <tr>\n",
       "      <th>notckd</th>\n",
       "      <td>150</td>\n",
       "      <td>0</td>\n",
       "      <td>150</td>\n",
       "    </tr>\n",
       "    <tr>\n",
       "      <th>All</th>\n",
       "      <td>340</td>\n",
       "      <td>60</td>\n",
       "      <td>400</td>\n",
       "    </tr>\n",
       "  </tbody>\n",
       "</table>\n",
       "</div>"
      ],
      "text/plain": [
       "ane              no  yes  All\n",
       "classification               \n",
       "ckd             190   60  250\n",
       "notckd          150    0  150\n",
       "All             340   60  400"
      ]
     },
     "execution_count": 47,
     "metadata": {},
     "output_type": "execute_result"
    }
   ],
   "source": [
    "pd.crosstab(df.classification, df.ane, margins=True)"
   ]
  },
  {
   "cell_type": "markdown",
   "id": "4359b038",
   "metadata": {},
   "source": [
    "BIVARIATE INSIGHTS:\n",
    " * People who have high Bp has kidney disease.\n",
    " * People who have Albumin has kidney disease.\n",
    " * People who have sugar has higher chance of getting kidney disease.\n",
    " * people whose blood glucose random is high has higher chance of getting kidney disease.\n",
    " * People whose have high blood urea has higher chance of getting kidney disease.\n",
    " * People who have high serum creatinine has higher chance of getting kidney disease.\n",
    " * Specific gravity,potassium,does not has much impact on CkD.\n",
    " * People with low hemoglobin has higher chance of getting CKD.\n",
    " * People whose packed less volume is low has higher chance of getting CKD.\n",
    " * People who have high white blood cells has higher chance of getting CKD.\n",
    " * People who have less red blood cells has higher chance of getting CKD.\n",
    " * People whose red blood cells are abnormal has higher chance of getting CKD.\n",
    " * People whose puss cells are abnormal has CKD.\n",
    " * People who have high puss cell clamps has CKD.\n",
    " * People who have high bacteria has CKD.\n",
    " * People who have hypertention has CKD.\n",
    " * People who have diabetes mellitus has CKD.\n",
    " * People who have coronary artery disease has CKD.\n",
    " * People who have poor appet has higher chance of getting CKD.\n",
    " * People who have pedal edema has CKD.\n",
    " * People who have anemia has CKD."
   ]
  },
  {
   "cell_type": "markdown",
   "id": "68ccbb5a",
   "metadata": {},
   "source": [
    "# OUTLIERS"
   ]
  },
  {
   "cell_type": "code",
   "execution_count": 48,
   "id": "abdd7b25",
   "metadata": {},
   "outputs": [],
   "source": [
    "import seaborn as sns"
   ]
  },
  {
   "cell_type": "code",
   "execution_count": 49,
   "id": "6e32d1cf",
   "metadata": {
    "scrolled": false
   },
   "outputs": [
    {
     "name": "stdout",
     "output_type": "stream",
     "text": [
      "Column : age\n"
     ]
    },
    {
     "data": {
      "image/png": "[encoded data removed]",
      "text/plain": [
       "<Figure size 640x480 with 1 Axes>"
      ]
     },
     "metadata": {},
     "output_type": "display_data"
    },
    {
     "name": "stdout",
     "output_type": "stream",
     "text": [
      "**************************************************\n",
      "Column : bp\n"
     ]
    },
    {
     "data": {
      "image/png": "[encoded data removed]",
      "text/plain": [
       "<Figure size 640x480 with 1 Axes>"
      ]
     },
     "metadata": {},
     "output_type": "display_data"
    },
    {
     "name": "stdout",
     "output_type": "stream",
     "text": [
      "**************************************************\n",
      "Column : sg\n"
     ]
    },
    {
     "data": {
      "image/png": "[encoded data removed]",
      "text/plain": [
       "<Figure size 640x480 with 1 Axes>"
      ]
     },
     "metadata": {},
     "output_type": "display_data"
    },
    {
     "name": "stdout",
     "output_type": "stream",
     "text": [
      "**************************************************\n",
      "Column : al\n"
     ]
    },
    {
     "data": {
      "image/png": "[encoded data removed]",
      "text/plain": [
       "<Figure size 640x480 with 1 Axes>"
      ]
     },
     "metadata": {},
     "output_type": "display_data"
    },
    {
     "name": "stdout",
     "output_type": "stream",
     "text": [
      "**************************************************\n",
      "Column : su\n"
     ]
    },
    {
     "data": {
      "image/png": "[encoded data removed]",
      "text/plain": [
       "<Figure size 640x480 with 1 Axes>"
      ]
     },
     "metadata": {},
     "output_type": "display_data"
    },
    {
     "name": "stdout",
     "output_type": "stream",
     "text": [
      "**************************************************\n",
      "Column : bgr\n"
     ]
    },
    {
     "data": {
      "image/png": "[encoded data removed]",
      "text/plain": [
       "<Figure size 640x480 with 1 Axes>"
      ]
     },
     "metadata": {},
     "output_type": "display_data"
    },
    {
     "name": "stdout",
     "output_type": "stream",
     "text": [
      "**************************************************\n",
      "Column : bu\n"
     ]
    },
    {
     "data": {
      "image/png": "[encoded data removed]",
      "text/plain": [
       "<Figure size 640x480 with 1 Axes>"
      ]
     },
     "metadata": {},
     "output_type": "display_data"
    },
    {
     "name": "stdout",
     "output_type": "stream",
     "text": [
      "**************************************************\n",
      "Column : sc\n"
     ]
    },
    {
     "data": {
      "image/png": "[encoded data removed]",
      "text/plain": [
       "<Figure size 640x480 with 1 Axes>"
      ]
     },
     "metadata": {},
     "output_type": "display_data"
    },
    {
     "name": "stdout",
     "output_type": "stream",
     "text": [
      "**************************************************\n",
      "Column : sod\n"
     ]
    },
    {
     "data": {
      "image/png": "[encoded data removed]",
      "text/plain": [
       "<Figure size 640x480 with 1 Axes>"
      ]
     },
     "metadata": {},
     "output_type": "display_data"
    },
    {
     "name": "stdout",
     "output_type": "stream",
     "text": [
      "**************************************************\n",
      "Column : pot\n"
     ]
    },
    {
     "data": {
      "image/png": "[encoded data removed]",
      "text/plain": [
       "<Figure size 640x480 with 1 Axes>"
      ]
     },
     "metadata": {},
     "output_type": "display_data"
    },
    {
     "name": "stdout",
     "output_type": "stream",
     "text": [
      "**************************************************\n",
      "Column : hemo\n"
     ]
    },
    {
     "data": {
      "image/png": "[encoded data removed]",
      "text/plain": [
       "<Figure size 640x480 with 1 Axes>"
      ]
     },
     "metadata": {},
     "output_type": "display_data"
    },
    {
     "name": "stdout",
     "output_type": "stream",
     "text": [
      "**************************************************\n",
      "Column : pcv\n"
     ]
    },
    {
     "data": {
      "image/png": "[encoded data removed]",
      "text/plain": [
       "<Figure size 640x480 with 1 Axes>"
      ]
     },
     "metadata": {},
     "output_type": "display_data"
    },
    {
     "name": "stdout",
     "output_type": "stream",
     "text": [
      "**************************************************\n",
      "Column : wc\n"
     ]
    },
    {
     "data": {
      "image/png": "[encoded data removed]",
      "text/plain": [
       "<Figure size 640x480 with 1 Axes>"
      ]
     },
     "metadata": {},
     "output_type": "display_data"
    },
    {
     "name": "stdout",
     "output_type": "stream",
     "text": [
      "**************************************************\n",
      "Column : rc\n"
     ]
    },
    {
     "data": {
      "image/png": "[encoded data removed]",
      "text/plain": [
       "<Figure size 640x480 with 1 Axes>"
      ]
     },
     "metadata": {},
     "output_type": "display_data"
    },
    {
     "name": "stdout",
     "output_type": "stream",
     "text": [
      "**************************************************\n"
     ]
    }
   ],
   "source": [
    "for i in df.columns:\n",
    "    if df[i].dtype == 'int64' or df[i].dtype =='float64' or df[i].dtype == 'int32':\n",
    "        print('Column :',i)\n",
    "        sns.boxplot(df[i])\n",
    "        plt.show()\n",
    "        print('**'*25)"
   ]
  },
  {
   "cell_type": "code",
   "execution_count": 50,
   "id": "29b9943f",
   "metadata": {},
   "outputs": [],
   "source": [
    "def outliers_detect(data):\n",
    "    for i in data.describe():\n",
    "        if df[i].dtype == 'float64':\n",
    "            print(i)\n",
    "            print(\"............\")\n",
    "            Q1 = data.describe().at['25%',i]\n",
    "            Q3 = data.describe().at['75%',i]\n",
    "            IQR = Q3-Q1\n",
    "            LTV = Q1 - 1.5*IQR\n",
    "            UTV = Q3 + 1.5*IQR\n",
    "            print(\"Lower outliers\")\n",
    "            print(\".........\")\n",
    "            l = list(data[data[i]<LTV][i])##doubt\n",
    "            l.sort()\n",
    "            print(l)\n",
    "            data[i] = data[i].mask(data[i]<LTV, LTV)\n",
    "            print(\"upper outliers\")\n",
    "            print('.........')\n",
    "            u = list(data[data[i]>UTV][i])\n",
    "            u.sort()\n",
    "            print(u)\n",
    "            data[i] = data[i].mask(data[i]>UTV, UTV)      "
   ]
  },
  {
   "cell_type": "code",
   "execution_count": 51,
   "id": "8cd1346b",
   "metadata": {},
   "outputs": [
    {
     "name": "stdout",
     "output_type": "stream",
     "text": [
      "sg\n",
      "............\n",
      "Lower outliers\n",
      ".........\n",
      "[1.005, 1.005, 1.005, 1.005, 1.005, 1.005, 1.005]\n",
      "upper outliers\n",
      ".........\n",
      "[]\n",
      "bu\n",
      "............\n",
      "Lower outliers\n",
      ".........\n",
      "[]\n",
      "upper outliers\n",
      ".........\n",
      "[114.0, 115.0, 118.0, 125.0, 125.0, 125.0, 132.0, 132.0, 133.0, 137.0, 139.0, 142.0, 145.0, 146.0, 148.0, 150.0, 153.0, 153.0, 155.0, 155.0, 158.0, 162.0, 163.0, 164.0, 165.0, 166.0, 176.0, 180.0, 186.0, 191.0, 202.0, 208.0, 215.0, 217.0, 219.0, 223.0, 235.0, 241.0, 309.0, 322.0, 391.0]\n",
      "sc\n",
      "............\n",
      "Lower outliers\n",
      ".........\n",
      "[]\n",
      "upper outliers\n",
      ".........\n",
      "[5.6, 5.6, 5.9, 6.0, 6.0, 6.1, 6.1, 6.3, 6.3, 6.4, 6.5, 6.5, 6.7, 6.7, 6.8, 7.1, 7.2, 7.2, 7.3, 7.3, 7.3, 7.3, 7.5, 7.7, 8.5, 9.2, 9.3, 9.6, 9.7, 10.2, 10.8, 11.5, 11.8, 11.9, 12.0, 12.2, 12.8, 13.0, 13.3, 13.4, 13.5, 13.8, 14.2, 15.0, 15.2, 16.4, 16.9, 18.0, 18.1, 24.0, 32.0, 48.1, 76.0]\n",
      "sod\n",
      "............\n",
      "Lower outliers\n",
      ".........\n",
      "[4.5, 104.0, 111.0, 113.0, 113.0, 114.0, 114.0, 115.0, 120.0, 120.0, 122.0, 122.0, 124.0, 124.0, 124.0, 125.0, 125.0]\n",
      "upper outliers\n",
      ".........\n",
      "[163.0]\n",
      "wc\n",
      "............\n",
      "Lower outliers\n",
      ".........\n",
      "[2200.0, 2600.0]\n",
      "upper outliers\n",
      ".........\n",
      "[13200.0, 13200.0, 13600.0, 14600.0, 14600.0, 14900.0, 15200.0, 15200.0, 15700.0, 16300.0, 16700.0, 18900.0, 19100.0, 21600.0, 26400.0]\n",
      "rc\n",
      "............\n",
      "Lower outliers\n",
      ".........\n",
      "[2.1, 2.1, 2.3, 2.4, 2.5, 2.5, 2.6, 2.6, 2.7, 2.7, 2.8, 2.8, 2.9, 2.9, 3.0, 3.0, 3.0, 3.1, 3.1, 3.2, 3.2, 3.2, 3.2, 3.2, 3.3, 3.3, 3.3, 3.4, 3.4, 3.4, 3.4, 3.4, 3.4, 3.4, 3.4, 3.4, 3.5, 3.5, 3.5, 3.6, 3.6, 3.6, 3.6]\n",
      "upper outliers\n",
      ".........\n",
      "[6.0, 6.0, 6.0, 6.0, 6.1, 6.1, 6.1, 6.1, 6.1, 6.1, 6.1, 6.1, 6.2, 6.2, 6.2, 6.2, 6.2, 6.3, 6.3, 6.3, 6.3, 6.4, 6.4, 6.4, 6.4, 6.4, 6.5, 6.5, 6.5, 6.5, 6.5, 8.0]\n"
     ]
    }
   ],
   "source": [
    "outliers_detect(df)"
   ]
  },
  {
   "cell_type": "code",
   "execution_count": 52,
   "id": "3b352bb6",
   "metadata": {},
   "outputs": [
    {
     "name": "stdout",
     "output_type": "stream",
     "text": [
      "columns : sg\n"
     ]
    },
    {
     "data": {
      "image/png": "[encoded data removed]",
      "text/plain": [
       "<Figure size 640x480 with 1 Axes>"
      ]
     },
     "metadata": {},
     "output_type": "display_data"
    },
    {
     "name": "stdout",
     "output_type": "stream",
     "text": [
      "columns : bu\n"
     ]
    },
    {
     "data": {
      "image/png": "[encoded data removed]",
      "text/plain": [
       "<Figure size 640x480 with 1 Axes>"
      ]
     },
     "metadata": {},
     "output_type": "display_data"
    },
    {
     "name": "stdout",
     "output_type": "stream",
     "text": [
      "columns : sc\n"
     ]
    },
    {
     "data": {
      "image/png": "[encoded data removed]",
      "text/plain": [
       "<Figure size 640x480 with 1 Axes>"
      ]
     },
     "metadata": {},
     "output_type": "display_data"
    },
    {
     "name": "stdout",
     "output_type": "stream",
     "text": [
      "columns : sod\n"
     ]
    },
    {
     "data": {
      "image/png": "[encoded data removed]",
      "text/plain": [
       "<Figure size 640x480 with 1 Axes>"
      ]
     },
     "metadata": {},
     "output_type": "display_data"
    },
    {
     "name": "stdout",
     "output_type": "stream",
     "text": [
      "columns : wc\n"
     ]
    },
    {
     "data": {
      "image/png": "[encoded data removed]",
      "text/plain": [
       "<Figure size 640x480 with 1 Axes>"
      ]
     },
     "metadata": {},
     "output_type": "display_data"
    },
    {
     "name": "stdout",
     "output_type": "stream",
     "text": [
      "columns : rc\n"
     ]
    },
    {
     "data": {
      "image/png": "[encoded data removed]",
      "text/plain": [
       "<Figure size 640x480 with 1 Axes>"
      ]
     },
     "metadata": {},
     "output_type": "display_data"
    }
   ],
   "source": [
    "for i in df.describe():\n",
    "    if df[i].dtype == 'float64':\n",
    "        print('columns :',i)\n",
    "        sns.boxplot(df[i])\n",
    "        plt.show()"
   ]
  },
  {
   "cell_type": "code",
   "execution_count": 53,
   "id": "828386cd",
   "metadata": {},
   "outputs": [
    {
     "data": {
      "text/html": [
       "<div>\n",
       "<style scoped>\n",
       "    .dataframe tbody tr th:only-of-type {\n",
       "        vertical-align: middle;\n",
       "    }\n",
       "\n",
       "    .dataframe tbody tr th {\n",
       "        vertical-align: top;\n",
       "    }\n",
       "\n",
       "    .dataframe thead th {\n",
       "        text-align: right;\n",
       "    }\n",
       "</style>\n",
       "<table border=\"1\" class=\"dataframe\">\n",
       "  <thead>\n",
       "    <tr style=\"text-align: right;\">\n",
       "      <th></th>\n",
       "      <th>age</th>\n",
       "      <th>bp</th>\n",
       "      <th>sg</th>\n",
       "      <th>al</th>\n",
       "      <th>su</th>\n",
       "      <th>bgr</th>\n",
       "      <th>bu</th>\n",
       "      <th>sc</th>\n",
       "      <th>sod</th>\n",
       "      <th>pot</th>\n",
       "      <th>hemo</th>\n",
       "      <th>pcv</th>\n",
       "      <th>wc</th>\n",
       "      <th>rc</th>\n",
       "    </tr>\n",
       "  </thead>\n",
       "  <tbody>\n",
       "    <tr>\n",
       "      <th>count</th>\n",
       "      <td>400.000000</td>\n",
       "      <td>400.000000</td>\n",
       "      <td>400.000000</td>\n",
       "      <td>400.00000</td>\n",
       "      <td>400.000000</td>\n",
       "      <td>400.000000</td>\n",
       "      <td>400.000000</td>\n",
       "      <td>400.000000</td>\n",
       "      <td>400.000000</td>\n",
       "      <td>400.000000</td>\n",
       "      <td>400.0000</td>\n",
       "      <td>400.000000</td>\n",
       "      <td>400.000000</td>\n",
       "      <td>400.000000</td>\n",
       "    </tr>\n",
       "    <tr>\n",
       "      <th>mean</th>\n",
       "      <td>51.562500</td>\n",
       "      <td>76.575000</td>\n",
       "      <td>1.017452</td>\n",
       "      <td>0.90000</td>\n",
       "      <td>0.395000</td>\n",
       "      <td>145.062500</td>\n",
       "      <td>50.277687</td>\n",
       "      <td>2.071406</td>\n",
       "      <td>138.115004</td>\n",
       "      <td>4.115000</td>\n",
       "      <td>12.0875</td>\n",
       "      <td>39.260000</td>\n",
       "      <td>8276.716199</td>\n",
       "      <td>4.739435</td>\n",
       "    </tr>\n",
       "    <tr>\n",
       "      <th>std</th>\n",
       "      <td>16.982996</td>\n",
       "      <td>13.489785</td>\n",
       "      <td>0.005277</td>\n",
       "      <td>1.31313</td>\n",
       "      <td>1.040038</td>\n",
       "      <td>75.260774</td>\n",
       "      <td>30.283953</td>\n",
       "      <td>1.630716</td>\n",
       "      <td>5.281317</td>\n",
       "      <td>2.867461</td>\n",
       "      <td>2.7411</td>\n",
       "      <td>8.191162</td>\n",
       "      <td>2029.666146</td>\n",
       "      <td>0.674872</td>\n",
       "    </tr>\n",
       "    <tr>\n",
       "      <th>min</th>\n",
       "      <td>2.000000</td>\n",
       "      <td>50.000000</td>\n",
       "      <td>1.007500</td>\n",
       "      <td>0.00000</td>\n",
       "      <td>0.000000</td>\n",
       "      <td>22.000000</td>\n",
       "      <td>1.500000</td>\n",
       "      <td>0.400000</td>\n",
       "      <td>126.000000</td>\n",
       "      <td>2.000000</td>\n",
       "      <td>3.0000</td>\n",
       "      <td>9.000000</td>\n",
       "      <td>3337.500000</td>\n",
       "      <td>3.600000</td>\n",
       "    </tr>\n",
       "    <tr>\n",
       "      <th>25%</th>\n",
       "      <td>42.000000</td>\n",
       "      <td>70.000000</td>\n",
       "      <td>1.015000</td>\n",
       "      <td>0.00000</td>\n",
       "      <td>0.000000</td>\n",
       "      <td>101.000000</td>\n",
       "      <td>27.000000</td>\n",
       "      <td>0.900000</td>\n",
       "      <td>135.000000</td>\n",
       "      <td>4.000000</td>\n",
       "      <td>10.0000</td>\n",
       "      <td>34.000000</td>\n",
       "      <td>6975.000000</td>\n",
       "      <td>4.500000</td>\n",
       "    </tr>\n",
       "    <tr>\n",
       "      <th>50%</th>\n",
       "      <td>55.000000</td>\n",
       "      <td>80.000000</td>\n",
       "      <td>1.017408</td>\n",
       "      <td>0.00000</td>\n",
       "      <td>0.000000</td>\n",
       "      <td>121.000000</td>\n",
       "      <td>42.000000</td>\n",
       "      <td>1.300000</td>\n",
       "      <td>137.528754</td>\n",
       "      <td>4.000000</td>\n",
       "      <td>12.0000</td>\n",
       "      <td>41.000000</td>\n",
       "      <td>8406.122449</td>\n",
       "      <td>4.707435</td>\n",
       "    </tr>\n",
       "    <tr>\n",
       "      <th>75%</th>\n",
       "      <td>64.000000</td>\n",
       "      <td>80.000000</td>\n",
       "      <td>1.020000</td>\n",
       "      <td>2.00000</td>\n",
       "      <td>0.000000</td>\n",
       "      <td>150.000000</td>\n",
       "      <td>61.750000</td>\n",
       "      <td>2.725000</td>\n",
       "      <td>141.000000</td>\n",
       "      <td>4.000000</td>\n",
       "      <td>14.0000</td>\n",
       "      <td>44.000000</td>\n",
       "      <td>9400.000000</td>\n",
       "      <td>5.100000</td>\n",
       "    </tr>\n",
       "    <tr>\n",
       "      <th>max</th>\n",
       "      <td>90.000000</td>\n",
       "      <td>180.000000</td>\n",
       "      <td>1.025000</td>\n",
       "      <td>5.00000</td>\n",
       "      <td>5.000000</td>\n",
       "      <td>490.000000</td>\n",
       "      <td>113.875000</td>\n",
       "      <td>5.462500</td>\n",
       "      <td>150.000000</td>\n",
       "      <td>47.000000</td>\n",
       "      <td>17.0000</td>\n",
       "      <td>54.000000</td>\n",
       "      <td>13037.500000</td>\n",
       "      <td>6.000000</td>\n",
       "    </tr>\n",
       "  </tbody>\n",
       "</table>\n",
       "</div>"
      ],
      "text/plain": [
       "              age          bp          sg         al          su         bgr  \\\n",
       "count  400.000000  400.000000  400.000000  400.00000  400.000000  400.000000   \n",
       "mean    51.562500   76.575000    1.017452    0.90000    0.395000  145.062500   \n",
       "std     16.982996   13.489785    0.005277    1.31313    1.040038   75.260774   \n",
       "min      2.000000   50.000000    1.007500    0.00000    0.000000   22.000000   \n",
       "25%     42.000000   70.000000    1.015000    0.00000    0.000000  101.000000   \n",
       "50%     55.000000   80.000000    1.017408    0.00000    0.000000  121.000000   \n",
       "75%     64.000000   80.000000    1.020000    2.00000    0.000000  150.000000   \n",
       "max     90.000000  180.000000    1.025000    5.00000    5.000000  490.000000   \n",
       "\n",
       "               bu          sc         sod         pot      hemo         pcv  \\\n",
       "count  400.000000  400.000000  400.000000  400.000000  400.0000  400.000000   \n",
       "mean    50.277687    2.071406  138.115004    4.115000   12.0875   39.260000   \n",
       "std     30.283953    1.630716    5.281317    2.867461    2.7411    8.191162   \n",
       "min      1.500000    0.400000  126.000000    2.000000    3.0000    9.000000   \n",
       "25%     27.000000    0.900000  135.000000    4.000000   10.0000   34.000000   \n",
       "50%     42.000000    1.300000  137.528754    4.000000   12.0000   41.000000   \n",
       "75%     61.750000    2.725000  141.000000    4.000000   14.0000   44.000000   \n",
       "max    113.875000    5.462500  150.000000   47.000000   17.0000   54.000000   \n",
       "\n",
       "                 wc          rc  \n",
       "count    400.000000  400.000000  \n",
       "mean    8276.716199    4.739435  \n",
       "std     2029.666146    0.674872  \n",
       "min     3337.500000    3.600000  \n",
       "25%     6975.000000    4.500000  \n",
       "50%     8406.122449    4.707435  \n",
       "75%     9400.000000    5.100000  \n",
       "max    13037.500000    6.000000  "
      ]
     },
     "execution_count": 53,
     "metadata": {},
     "output_type": "execute_result"
    }
   ],
   "source": [
    "df.describe()"
   ]
  },
  {
   "cell_type": "markdown",
   "id": "39fbc6a3",
   "metadata": {},
   "source": [
    "# FEATURE ENGINEERING"
   ]
  },
  {
   "cell_type": "code",
   "execution_count": 125,
   "id": "5ed39ef3",
   "metadata": {},
   "outputs": [
    {
     "data": {
      "text/html": [
       "<div>\n",
       "<style scoped>\n",
       "    .dataframe tbody tr th:only-of-type {\n",
       "        vertical-align: middle;\n",
       "    }\n",
       "\n",
       "    .dataframe tbody tr th {\n",
       "        vertical-align: top;\n",
       "    }\n",
       "\n",
       "    .dataframe thead th {\n",
       "        text-align: right;\n",
       "    }\n",
       "</style>\n",
       "<table border=\"1\" class=\"dataframe\">\n",
       "  <thead>\n",
       "    <tr style=\"text-align: right;\">\n",
       "      <th></th>\n",
       "      <th>age</th>\n",
       "      <th>bp</th>\n",
       "      <th>al</th>\n",
       "      <th>su</th>\n",
       "      <th>rbc</th>\n",
       "      <th>pc</th>\n",
       "      <th>pcc</th>\n",
       "      <th>ba</th>\n",
       "      <th>bgr</th>\n",
       "      <th>bu</th>\n",
       "      <th>sc</th>\n",
       "      <th>sod</th>\n",
       "      <th>hemo</th>\n",
       "      <th>pcv</th>\n",
       "      <th>wc</th>\n",
       "      <th>htn</th>\n",
       "      <th>dm</th>\n",
       "      <th>cad</th>\n",
       "      <th>appet</th>\n",
       "      <th>pe</th>\n",
       "      <th>ane</th>\n",
       "      <th>classification</th>\n",
       "    </tr>\n",
       "  </thead>\n",
       "  <tbody>\n",
       "    <tr>\n",
       "      <th>age</th>\n",
       "      <td>1.000000</td>\n",
       "      <td>0.136316</td>\n",
       "      <td>0.085918</td>\n",
       "      <td>0.186750</td>\n",
       "      <td>0.014904</td>\n",
       "      <td>0.102286</td>\n",
       "      <td>0.157401</td>\n",
       "      <td>0.042427</td>\n",
       "      <td>0.230731</td>\n",
       "      <td>0.262934</td>\n",
       "      <td>0.261552</td>\n",
       "      <td>-0.106496</td>\n",
       "      <td>-0.178833</td>\n",
       "      <td>-0.210819</td>\n",
       "      <td>0.111037</td>\n",
       "      <td>0.395073</td>\n",
       "      <td>0.364306</td>\n",
       "      <td>0.231419</td>\n",
       "      <td>-0.156581</td>\n",
       "      <td>0.094772</td>\n",
       "      <td>0.052938</td>\n",
       "      <td>0.227842</td>\n",
       "    </tr>\n",
       "    <tr>\n",
       "      <th>bp</th>\n",
       "      <td>0.136316</td>\n",
       "      <td>1.000000</td>\n",
       "      <td>0.123518</td>\n",
       "      <td>0.189561</td>\n",
       "      <td>0.150384</td>\n",
       "      <td>0.156231</td>\n",
       "      <td>0.056808</td>\n",
       "      <td>0.110164</td>\n",
       "      <td>0.150180</td>\n",
       "      <td>0.184925</td>\n",
       "      <td>0.256383</td>\n",
       "      <td>-0.133947</td>\n",
       "      <td>-0.271804</td>\n",
       "      <td>-0.285876</td>\n",
       "      <td>0.029927</td>\n",
       "      <td>0.266901</td>\n",
       "      <td>0.226489</td>\n",
       "      <td>0.084135</td>\n",
       "      <td>-0.175054</td>\n",
       "      <td>0.056902</td>\n",
       "      <td>0.195134</td>\n",
       "      <td>0.293693</td>\n",
       "    </tr>\n",
       "    <tr>\n",
       "      <th>al</th>\n",
       "      <td>0.085918</td>\n",
       "      <td>0.123518</td>\n",
       "      <td>1.000000</td>\n",
       "      <td>0.287751</td>\n",
       "      <td>0.394844</td>\n",
       "      <td>0.561713</td>\n",
       "      <td>0.417868</td>\n",
       "      <td>0.377935</td>\n",
       "      <td>0.293150</td>\n",
       "      <td>0.374260</td>\n",
       "      <td>0.413282</td>\n",
       "      <td>-0.393171</td>\n",
       "      <td>-0.461993</td>\n",
       "      <td>-0.470819</td>\n",
       "      <td>0.173737</td>\n",
       "      <td>0.406057</td>\n",
       "      <td>0.308101</td>\n",
       "      <td>0.200957</td>\n",
       "      <td>-0.303145</td>\n",
       "      <td>0.411080</td>\n",
       "      <td>0.229556</td>\n",
       "      <td>0.531562</td>\n",
       "    </tr>\n",
       "    <tr>\n",
       "      <th>su</th>\n",
       "      <td>0.186750</td>\n",
       "      <td>0.189561</td>\n",
       "      <td>0.287751</td>\n",
       "      <td>1.000000</td>\n",
       "      <td>0.092940</td>\n",
       "      <td>0.190062</td>\n",
       "      <td>0.168091</td>\n",
       "      <td>0.119399</td>\n",
       "      <td>0.627002</td>\n",
       "      <td>0.127732</td>\n",
       "      <td>0.165866</td>\n",
       "      <td>-0.144090</td>\n",
       "      <td>-0.151056</td>\n",
       "      <td>-0.180658</td>\n",
       "      <td>0.176524</td>\n",
       "      <td>0.254268</td>\n",
       "      <td>0.430514</td>\n",
       "      <td>0.229301</td>\n",
       "      <td>-0.069216</td>\n",
       "      <td>0.116442</td>\n",
       "      <td>0.042464</td>\n",
       "      <td>0.294555</td>\n",
       "    </tr>\n",
       "    <tr>\n",
       "      <th>rbc</th>\n",
       "      <td>0.014904</td>\n",
       "      <td>0.150384</td>\n",
       "      <td>0.394844</td>\n",
       "      <td>0.092940</td>\n",
       "      <td>1.000000</td>\n",
       "      <td>0.377394</td>\n",
       "      <td>0.102948</td>\n",
       "      <td>0.184402</td>\n",
       "      <td>0.138615</td>\n",
       "      <td>0.236288</td>\n",
       "      <td>0.264589</td>\n",
       "      <td>-0.228141</td>\n",
       "      <td>-0.281068</td>\n",
       "      <td>-0.278263</td>\n",
       "      <td>0.013207</td>\n",
       "      <td>0.140538</td>\n",
       "      <td>0.145646</td>\n",
       "      <td>0.111493</td>\n",
       "      <td>-0.160868</td>\n",
       "      <td>0.199285</td>\n",
       "      <td>0.107625</td>\n",
       "      <td>0.282642</td>\n",
       "    </tr>\n",
       "    <tr>\n",
       "      <th>pc</th>\n",
       "      <td>0.102286</td>\n",
       "      <td>0.156231</td>\n",
       "      <td>0.561713</td>\n",
       "      <td>0.190062</td>\n",
       "      <td>0.377394</td>\n",
       "      <td>1.000000</td>\n",
       "      <td>0.520118</td>\n",
       "      <td>0.330401</td>\n",
       "      <td>0.247665</td>\n",
       "      <td>0.323230</td>\n",
       "      <td>0.339671</td>\n",
       "      <td>-0.293073</td>\n",
       "      <td>-0.406544</td>\n",
       "      <td>-0.417339</td>\n",
       "      <td>0.073674</td>\n",
       "      <td>0.291719</td>\n",
       "      <td>0.201032</td>\n",
       "      <td>0.172295</td>\n",
       "      <td>-0.274985</td>\n",
       "      <td>0.350227</td>\n",
       "      <td>0.260566</td>\n",
       "      <td>0.375154</td>\n",
       "    </tr>\n",
       "    <tr>\n",
       "      <th>pcc</th>\n",
       "      <td>0.157401</td>\n",
       "      <td>0.056808</td>\n",
       "      <td>0.417868</td>\n",
       "      <td>0.168091</td>\n",
       "      <td>0.102948</td>\n",
       "      <td>0.520118</td>\n",
       "      <td>1.000000</td>\n",
       "      <td>0.275082</td>\n",
       "      <td>0.195223</td>\n",
       "      <td>0.208244</td>\n",
       "      <td>0.217319</td>\n",
       "      <td>-0.220846</td>\n",
       "      <td>-0.270110</td>\n",
       "      <td>-0.297980</td>\n",
       "      <td>0.136915</td>\n",
       "      <td>0.195623</td>\n",
       "      <td>0.165236</td>\n",
       "      <td>0.188029</td>\n",
       "      <td>-0.189688</td>\n",
       "      <td>0.104356</td>\n",
       "      <td>0.175861</td>\n",
       "      <td>0.265313</td>\n",
       "    </tr>\n",
       "    <tr>\n",
       "      <th>ba</th>\n",
       "      <td>0.042427</td>\n",
       "      <td>0.110164</td>\n",
       "      <td>0.377935</td>\n",
       "      <td>0.119399</td>\n",
       "      <td>0.184402</td>\n",
       "      <td>0.330401</td>\n",
       "      <td>0.275082</td>\n",
       "      <td>1.000000</td>\n",
       "      <td>0.079162</td>\n",
       "      <td>0.181999</td>\n",
       "      <td>0.209676</td>\n",
       "      <td>-0.154705</td>\n",
       "      <td>-0.199977</td>\n",
       "      <td>-0.188624</td>\n",
       "      <td>0.096590</td>\n",
       "      <td>0.089046</td>\n",
       "      <td>0.080070</td>\n",
       "      <td>0.162395</td>\n",
       "      <td>-0.149126</td>\n",
       "      <td>0.134732</td>\n",
       "      <td>0.052208</td>\n",
       "      <td>0.186871</td>\n",
       "    </tr>\n",
       "    <tr>\n",
       "      <th>bgr</th>\n",
       "      <td>0.230731</td>\n",
       "      <td>0.150180</td>\n",
       "      <td>0.293150</td>\n",
       "      <td>0.627002</td>\n",
       "      <td>0.138615</td>\n",
       "      <td>0.247665</td>\n",
       "      <td>0.195223</td>\n",
       "      <td>0.079162</td>\n",
       "      <td>1.000000</td>\n",
       "      <td>0.150860</td>\n",
       "      <td>0.184955</td>\n",
       "      <td>-0.251243</td>\n",
       "      <td>-0.253390</td>\n",
       "      <td>-0.255274</td>\n",
       "      <td>0.132513</td>\n",
       "      <td>0.367816</td>\n",
       "      <td>0.503254</td>\n",
       "      <td>0.207020</td>\n",
       "      <td>-0.177285</td>\n",
       "      <td>0.094806</td>\n",
       "      <td>0.112449</td>\n",
       "      <td>0.379321</td>\n",
       "    </tr>\n",
       "    <tr>\n",
       "      <th>bu</th>\n",
       "      <td>0.262934</td>\n",
       "      <td>0.184925</td>\n",
       "      <td>0.374260</td>\n",
       "      <td>0.127732</td>\n",
       "      <td>0.236288</td>\n",
       "      <td>0.323230</td>\n",
       "      <td>0.208244</td>\n",
       "      <td>0.181999</td>\n",
       "      <td>0.150860</td>\n",
       "      <td>1.000000</td>\n",
       "      <td>0.826381</td>\n",
       "      <td>-0.407027</td>\n",
       "      <td>-0.597610</td>\n",
       "      <td>-0.567226</td>\n",
       "      <td>0.076290</td>\n",
       "      <td>0.499581</td>\n",
       "      <td>0.394692</td>\n",
       "      <td>0.262308</td>\n",
       "      <td>-0.298584</td>\n",
       "      <td>0.314807</td>\n",
       "      <td>0.429100</td>\n",
       "      <td>0.438210</td>\n",
       "    </tr>\n",
       "    <tr>\n",
       "      <th>sc</th>\n",
       "      <td>0.261552</td>\n",
       "      <td>0.256383</td>\n",
       "      <td>0.413282</td>\n",
       "      <td>0.165866</td>\n",
       "      <td>0.264589</td>\n",
       "      <td>0.339671</td>\n",
       "      <td>0.217319</td>\n",
       "      <td>0.209676</td>\n",
       "      <td>0.184955</td>\n",
       "      <td>0.826381</td>\n",
       "      <td>1.000000</td>\n",
       "      <td>-0.449835</td>\n",
       "      <td>-0.658328</td>\n",
       "      <td>-0.622938</td>\n",
       "      <td>0.079380</td>\n",
       "      <td>0.552042</td>\n",
       "      <td>0.426625</td>\n",
       "      <td>0.277046</td>\n",
       "      <td>-0.342756</td>\n",
       "      <td>0.326563</td>\n",
       "      <td>0.447844</td>\n",
       "      <td>0.565046</td>\n",
       "    </tr>\n",
       "    <tr>\n",
       "      <th>sod</th>\n",
       "      <td>-0.106496</td>\n",
       "      <td>-0.133947</td>\n",
       "      <td>-0.393171</td>\n",
       "      <td>-0.144090</td>\n",
       "      <td>-0.228141</td>\n",
       "      <td>-0.293073</td>\n",
       "      <td>-0.220846</td>\n",
       "      <td>-0.154705</td>\n",
       "      <td>-0.251243</td>\n",
       "      <td>-0.407027</td>\n",
       "      <td>-0.449835</td>\n",
       "      <td>1.000000</td>\n",
       "      <td>0.475910</td>\n",
       "      <td>0.476865</td>\n",
       "      <td>0.000672</td>\n",
       "      <td>-0.417269</td>\n",
       "      <td>-0.366210</td>\n",
       "      <td>-0.189996</td>\n",
       "      <td>0.263300</td>\n",
       "      <td>-0.267340</td>\n",
       "      <td>-0.297988</td>\n",
       "      <td>-0.510447</td>\n",
       "    </tr>\n",
       "    <tr>\n",
       "      <th>hemo</th>\n",
       "      <td>-0.178833</td>\n",
       "      <td>-0.271804</td>\n",
       "      <td>-0.461993</td>\n",
       "      <td>-0.151056</td>\n",
       "      <td>-0.281068</td>\n",
       "      <td>-0.406544</td>\n",
       "      <td>-0.270110</td>\n",
       "      <td>-0.199977</td>\n",
       "      <td>-0.253390</td>\n",
       "      <td>-0.597610</td>\n",
       "      <td>-0.658328</td>\n",
       "      <td>0.475910</td>\n",
       "      <td>1.000000</td>\n",
       "      <td>0.832702</td>\n",
       "      <td>-0.134448</td>\n",
       "      <td>-0.567965</td>\n",
       "      <td>-0.467589</td>\n",
       "      <td>-0.284796</td>\n",
       "      <td>0.387203</td>\n",
       "      <td>-0.380939</td>\n",
       "      <td>-0.553044</td>\n",
       "      <td>-0.725977</td>\n",
       "    </tr>\n",
       "    <tr>\n",
       "      <th>pcv</th>\n",
       "      <td>-0.210819</td>\n",
       "      <td>-0.285876</td>\n",
       "      <td>-0.470819</td>\n",
       "      <td>-0.180658</td>\n",
       "      <td>-0.278263</td>\n",
       "      <td>-0.417339</td>\n",
       "      <td>-0.297980</td>\n",
       "      <td>-0.188624</td>\n",
       "      <td>-0.255274</td>\n",
       "      <td>-0.567226</td>\n",
       "      <td>-0.622938</td>\n",
       "      <td>0.476865</td>\n",
       "      <td>0.832702</td>\n",
       "      <td>1.000000</td>\n",
       "      <td>-0.149470</td>\n",
       "      <td>-0.565524</td>\n",
       "      <td>-0.444733</td>\n",
       "      <td>-0.297873</td>\n",
       "      <td>0.374184</td>\n",
       "      <td>-0.382286</td>\n",
       "      <td>-0.513150</td>\n",
       "      <td>-0.656471</td>\n",
       "    </tr>\n",
       "    <tr>\n",
       "      <th>wc</th>\n",
       "      <td>0.111037</td>\n",
       "      <td>0.029927</td>\n",
       "      <td>0.173737</td>\n",
       "      <td>0.176524</td>\n",
       "      <td>0.013207</td>\n",
       "      <td>0.073674</td>\n",
       "      <td>0.136915</td>\n",
       "      <td>0.096590</td>\n",
       "      <td>0.132513</td>\n",
       "      <td>0.076290</td>\n",
       "      <td>0.079380</td>\n",
       "      <td>0.000672</td>\n",
       "      <td>-0.134448</td>\n",
       "      <td>-0.149470</td>\n",
       "      <td>1.000000</td>\n",
       "      <td>0.110021</td>\n",
       "      <td>0.143057</td>\n",
       "      <td>0.029863</td>\n",
       "      <td>-0.117670</td>\n",
       "      <td>0.110864</td>\n",
       "      <td>0.020489</td>\n",
       "      <td>0.205743</td>\n",
       "    </tr>\n",
       "    <tr>\n",
       "      <th>htn</th>\n",
       "      <td>0.395073</td>\n",
       "      <td>0.266901</td>\n",
       "      <td>0.406057</td>\n",
       "      <td>0.254268</td>\n",
       "      <td>0.140538</td>\n",
       "      <td>0.291719</td>\n",
       "      <td>0.195623</td>\n",
       "      <td>0.089046</td>\n",
       "      <td>0.367816</td>\n",
       "      <td>0.499581</td>\n",
       "      <td>0.552042</td>\n",
       "      <td>-0.417269</td>\n",
       "      <td>-0.567965</td>\n",
       "      <td>-0.565524</td>\n",
       "      <td>0.110021</td>\n",
       "      <td>1.000000</td>\n",
       "      <td>0.608118</td>\n",
       "      <td>0.325479</td>\n",
       "      <td>-0.345070</td>\n",
       "      <td>0.371026</td>\n",
       "      <td>0.347802</td>\n",
       "      <td>0.590438</td>\n",
       "    </tr>\n",
       "    <tr>\n",
       "      <th>dm</th>\n",
       "      <td>0.364306</td>\n",
       "      <td>0.226489</td>\n",
       "      <td>0.308101</td>\n",
       "      <td>0.430514</td>\n",
       "      <td>0.145646</td>\n",
       "      <td>0.201032</td>\n",
       "      <td>0.165236</td>\n",
       "      <td>0.080070</td>\n",
       "      <td>0.503254</td>\n",
       "      <td>0.394692</td>\n",
       "      <td>0.426625</td>\n",
       "      <td>-0.366210</td>\n",
       "      <td>-0.467589</td>\n",
       "      <td>-0.444733</td>\n",
       "      <td>0.143057</td>\n",
       "      <td>0.608118</td>\n",
       "      <td>1.000000</td>\n",
       "      <td>0.271172</td>\n",
       "      <td>-0.325134</td>\n",
       "      <td>0.308463</td>\n",
       "      <td>0.183686</td>\n",
       "      <td>0.559060</td>\n",
       "    </tr>\n",
       "    <tr>\n",
       "      <th>cad</th>\n",
       "      <td>0.231419</td>\n",
       "      <td>0.084135</td>\n",
       "      <td>0.200957</td>\n",
       "      <td>0.229301</td>\n",
       "      <td>0.111493</td>\n",
       "      <td>0.172295</td>\n",
       "      <td>0.188029</td>\n",
       "      <td>0.162395</td>\n",
       "      <td>0.207020</td>\n",
       "      <td>0.262308</td>\n",
       "      <td>0.277046</td>\n",
       "      <td>-0.189996</td>\n",
       "      <td>-0.284796</td>\n",
       "      <td>-0.297873</td>\n",
       "      <td>0.029863</td>\n",
       "      <td>0.325479</td>\n",
       "      <td>0.271172</td>\n",
       "      <td>1.000000</td>\n",
       "      <td>-0.156104</td>\n",
       "      <td>0.172295</td>\n",
       "      <td>0.047700</td>\n",
       "      <td>0.236088</td>\n",
       "    </tr>\n",
       "    <tr>\n",
       "      <th>appet</th>\n",
       "      <td>-0.156581</td>\n",
       "      <td>-0.175054</td>\n",
       "      <td>-0.303145</td>\n",
       "      <td>-0.069216</td>\n",
       "      <td>-0.160868</td>\n",
       "      <td>-0.274985</td>\n",
       "      <td>-0.189688</td>\n",
       "      <td>-0.149126</td>\n",
       "      <td>-0.177285</td>\n",
       "      <td>-0.298584</td>\n",
       "      <td>-0.342756</td>\n",
       "      <td>0.263300</td>\n",
       "      <td>0.387203</td>\n",
       "      <td>0.374184</td>\n",
       "      <td>-0.117670</td>\n",
       "      <td>-0.345070</td>\n",
       "      <td>-0.325134</td>\n",
       "      <td>-0.156104</td>\n",
       "      <td>1.000000</td>\n",
       "      <td>-0.417055</td>\n",
       "      <td>-0.254942</td>\n",
       "      <td>-0.393341</td>\n",
       "    </tr>\n",
       "    <tr>\n",
       "      <th>pe</th>\n",
       "      <td>0.094772</td>\n",
       "      <td>0.056902</td>\n",
       "      <td>0.411080</td>\n",
       "      <td>0.116442</td>\n",
       "      <td>0.199285</td>\n",
       "      <td>0.350227</td>\n",
       "      <td>0.104356</td>\n",
       "      <td>0.134732</td>\n",
       "      <td>0.094806</td>\n",
       "      <td>0.314807</td>\n",
       "      <td>0.326563</td>\n",
       "      <td>-0.267340</td>\n",
       "      <td>-0.380939</td>\n",
       "      <td>-0.382286</td>\n",
       "      <td>0.110864</td>\n",
       "      <td>0.371026</td>\n",
       "      <td>0.308463</td>\n",
       "      <td>0.172295</td>\n",
       "      <td>-0.417055</td>\n",
       "      <td>1.000000</td>\n",
       "      <td>0.207025</td>\n",
       "      <td>0.375154</td>\n",
       "    </tr>\n",
       "    <tr>\n",
       "      <th>ane</th>\n",
       "      <td>0.052938</td>\n",
       "      <td>0.195134</td>\n",
       "      <td>0.229556</td>\n",
       "      <td>0.042464</td>\n",
       "      <td>0.107625</td>\n",
       "      <td>0.260566</td>\n",
       "      <td>0.175861</td>\n",
       "      <td>0.052208</td>\n",
       "      <td>0.112449</td>\n",
       "      <td>0.429100</td>\n",
       "      <td>0.447844</td>\n",
       "      <td>-0.297988</td>\n",
       "      <td>-0.553044</td>\n",
       "      <td>-0.513150</td>\n",
       "      <td>0.020489</td>\n",
       "      <td>0.347802</td>\n",
       "      <td>0.183686</td>\n",
       "      <td>0.047700</td>\n",
       "      <td>-0.254942</td>\n",
       "      <td>0.207025</td>\n",
       "      <td>1.000000</td>\n",
       "      <td>0.325396</td>\n",
       "    </tr>\n",
       "    <tr>\n",
       "      <th>classification</th>\n",
       "      <td>0.227842</td>\n",
       "      <td>0.293693</td>\n",
       "      <td>0.531562</td>\n",
       "      <td>0.294555</td>\n",
       "      <td>0.282642</td>\n",
       "      <td>0.375154</td>\n",
       "      <td>0.265313</td>\n",
       "      <td>0.186871</td>\n",
       "      <td>0.379321</td>\n",
       "      <td>0.438210</td>\n",
       "      <td>0.565046</td>\n",
       "      <td>-0.510447</td>\n",
       "      <td>-0.725977</td>\n",
       "      <td>-0.656471</td>\n",
       "      <td>0.205743</td>\n",
       "      <td>0.590438</td>\n",
       "      <td>0.559060</td>\n",
       "      <td>0.236088</td>\n",
       "      <td>-0.393341</td>\n",
       "      <td>0.375154</td>\n",
       "      <td>0.325396</td>\n",
       "      <td>1.000000</td>\n",
       "    </tr>\n",
       "  </tbody>\n",
       "</table>\n",
       "</div>"
      ],
      "text/plain": [
       "                     age        bp        al        su       rbc        pc  \\\n",
       "age             1.000000  0.136316  0.085918  0.186750  0.014904  0.102286   \n",
       "bp              0.136316  1.000000  0.123518  0.189561  0.150384  0.156231   \n",
       "al              0.085918  0.123518  1.000000  0.287751  0.394844  0.561713   \n",
       "su              0.186750  0.189561  0.287751  1.000000  0.092940  0.190062   \n",
       "rbc             0.014904  0.150384  0.394844  0.092940  1.000000  0.377394   \n",
       "pc              0.102286  0.156231  0.561713  0.190062  0.377394  1.000000   \n",
       "pcc             0.157401  0.056808  0.417868  0.168091  0.102948  0.520118   \n",
       "ba              0.042427  0.110164  0.377935  0.119399  0.184402  0.330401   \n",
       "bgr             0.230731  0.150180  0.293150  0.627002  0.138615  0.247665   \n",
       "bu              0.262934  0.184925  0.374260  0.127732  0.236288  0.323230   \n",
       "sc              0.261552  0.256383  0.413282  0.165866  0.264589  0.339671   \n",
       "sod            -0.106496 -0.133947 -0.393171 -0.144090 -0.228141 -0.293073   \n",
       "hemo           -0.178833 -0.271804 -0.461993 -0.151056 -0.281068 -0.406544   \n",
       "pcv            -0.210819 -0.285876 -0.470819 -0.180658 -0.278263 -0.417339   \n",
       "wc              0.111037  0.029927  0.173737  0.176524  0.013207  0.073674   \n",
       "htn             0.395073  0.266901  0.406057  0.254268  0.140538  0.291719   \n",
       "dm              0.364306  0.226489  0.308101  0.430514  0.145646  0.201032   \n",
       "cad             0.231419  0.084135  0.200957  0.229301  0.111493  0.172295   \n",
       "appet          -0.156581 -0.175054 -0.303145 -0.069216 -0.160868 -0.274985   \n",
       "pe              0.094772  0.056902  0.411080  0.116442  0.199285  0.350227   \n",
       "ane             0.052938  0.195134  0.229556  0.042464  0.107625  0.260566   \n",
       "classification  0.227842  0.293693  0.531562  0.294555  0.282642  0.375154   \n",
       "\n",
       "                     pcc        ba       bgr        bu        sc       sod  \\\n",
       "age             0.157401  0.042427  0.230731  0.262934  0.261552 -0.106496   \n",
       "bp              0.056808  0.110164  0.150180  0.184925  0.256383 -0.133947   \n",
       "al              0.417868  0.377935  0.293150  0.374260  0.413282 -0.393171   \n",
       "su              0.168091  0.119399  0.627002  0.127732  0.165866 -0.144090   \n",
       "rbc             0.102948  0.184402  0.138615  0.236288  0.264589 -0.228141   \n",
       "pc              0.520118  0.330401  0.247665  0.323230  0.339671 -0.293073   \n",
       "pcc             1.000000  0.275082  0.195223  0.208244  0.217319 -0.220846   \n",
       "ba              0.275082  1.000000  0.079162  0.181999  0.209676 -0.154705   \n",
       "bgr             0.195223  0.079162  1.000000  0.150860  0.184955 -0.251243   \n",
       "bu              0.208244  0.181999  0.150860  1.000000  0.826381 -0.407027   \n",
       "sc              0.217319  0.209676  0.184955  0.826381  1.000000 -0.449835   \n",
       "sod            -0.220846 -0.154705 -0.251243 -0.407027 -0.449835  1.000000   \n",
       "hemo           -0.270110 -0.199977 -0.253390 -0.597610 -0.658328  0.475910   \n",
       "pcv            -0.297980 -0.188624 -0.255274 -0.567226 -0.622938  0.476865   \n",
       "wc              0.136915  0.096590  0.132513  0.076290  0.079380  0.000672   \n",
       "htn             0.195623  0.089046  0.367816  0.499581  0.552042 -0.417269   \n",
       "dm              0.165236  0.080070  0.503254  0.394692  0.426625 -0.366210   \n",
       "cad             0.188029  0.162395  0.207020  0.262308  0.277046 -0.189996   \n",
       "appet          -0.189688 -0.149126 -0.177285 -0.298584 -0.342756  0.263300   \n",
       "pe              0.104356  0.134732  0.094806  0.314807  0.326563 -0.267340   \n",
       "ane             0.175861  0.052208  0.112449  0.429100  0.447844 -0.297988   \n",
       "classification  0.265313  0.186871  0.379321  0.438210  0.565046 -0.510447   \n",
       "\n",
       "                    hemo       pcv        wc       htn        dm       cad  \\\n",
       "age            -0.178833 -0.210819  0.111037  0.395073  0.364306  0.231419   \n",
       "bp             -0.271804 -0.285876  0.029927  0.266901  0.226489  0.084135   \n",
       "al             -0.461993 -0.470819  0.173737  0.406057  0.308101  0.200957   \n",
       "su             -0.151056 -0.180658  0.176524  0.254268  0.430514  0.229301   \n",
       "rbc            -0.281068 -0.278263  0.013207  0.140538  0.145646  0.111493   \n",
       "pc             -0.406544 -0.417339  0.073674  0.291719  0.201032  0.172295   \n",
       "pcc            -0.270110 -0.297980  0.136915  0.195623  0.165236  0.188029   \n",
       "ba             -0.199977 -0.188624  0.096590  0.089046  0.080070  0.162395   \n",
       "bgr            -0.253390 -0.255274  0.132513  0.367816  0.503254  0.207020   \n",
       "bu             -0.597610 -0.567226  0.076290  0.499581  0.394692  0.262308   \n",
       "sc             -0.658328 -0.622938  0.079380  0.552042  0.426625  0.277046   \n",
       "sod             0.475910  0.476865  0.000672 -0.417269 -0.366210 -0.189996   \n",
       "hemo            1.000000  0.832702 -0.134448 -0.567965 -0.467589 -0.284796   \n",
       "pcv             0.832702  1.000000 -0.149470 -0.565524 -0.444733 -0.297873   \n",
       "wc             -0.134448 -0.149470  1.000000  0.110021  0.143057  0.029863   \n",
       "htn            -0.567965 -0.565524  0.110021  1.000000  0.608118  0.325479   \n",
       "dm             -0.467589 -0.444733  0.143057  0.608118  1.000000  0.271172   \n",
       "cad            -0.284796 -0.297873  0.029863  0.325479  0.271172  1.000000   \n",
       "appet           0.387203  0.374184 -0.117670 -0.345070 -0.325134 -0.156104   \n",
       "pe             -0.380939 -0.382286  0.110864  0.371026  0.308463  0.172295   \n",
       "ane            -0.553044 -0.513150  0.020489  0.347802  0.183686  0.047700   \n",
       "classification -0.725977 -0.656471  0.205743  0.590438  0.559060  0.236088   \n",
       "\n",
       "                   appet        pe       ane  classification  \n",
       "age            -0.156581  0.094772  0.052938        0.227842  \n",
       "bp             -0.175054  0.056902  0.195134        0.293693  \n",
       "al             -0.303145  0.411080  0.229556        0.531562  \n",
       "su             -0.069216  0.116442  0.042464        0.294555  \n",
       "rbc            -0.160868  0.199285  0.107625        0.282642  \n",
       "pc             -0.274985  0.350227  0.260566        0.375154  \n",
       "pcc            -0.189688  0.104356  0.175861        0.265313  \n",
       "ba             -0.149126  0.134732  0.052208        0.186871  \n",
       "bgr            -0.177285  0.094806  0.112449        0.379321  \n",
       "bu             -0.298584  0.314807  0.429100        0.438210  \n",
       "sc             -0.342756  0.326563  0.447844        0.565046  \n",
       "sod             0.263300 -0.267340 -0.297988       -0.510447  \n",
       "hemo            0.387203 -0.380939 -0.553044       -0.725977  \n",
       "pcv             0.374184 -0.382286 -0.513150       -0.656471  \n",
       "wc             -0.117670  0.110864  0.020489        0.205743  \n",
       "htn            -0.345070  0.371026  0.347802        0.590438  \n",
       "dm             -0.325134  0.308463  0.183686        0.559060  \n",
       "cad            -0.156104  0.172295  0.047700        0.236088  \n",
       "appet           1.000000 -0.417055 -0.254942       -0.393341  \n",
       "pe             -0.417055  1.000000  0.207025        0.375154  \n",
       "ane            -0.254942  0.207025  1.000000        0.325396  \n",
       "classification -0.393341  0.375154  0.325396        1.000000  "
      ]
     },
     "execution_count": 125,
     "metadata": {},
     "output_type": "execute_result"
    }
   ],
   "source": [
    "df.corr()"
   ]
  },
  {
   "cell_type": "code",
   "execution_count": 54,
   "id": "1b40ce75",
   "metadata": {},
   "outputs": [],
   "source": [
    "del df['sg']\n",
    "del df['pot']\n",
    "del df['rc']"
   ]
  },
  {
   "cell_type": "markdown",
   "id": "fd6b1a07",
   "metadata": {},
   "source": [
    "# DATA PREPROCESSING"
   ]
  },
  {
   "cell_type": "code",
   "execution_count": 55,
   "id": "4de24e8e",
   "metadata": {},
   "outputs": [
    {
     "name": "stdout",
     "output_type": "stream",
     "text": [
      "rbc\n",
      ".....\n",
      "2\n",
      "normal      353\n",
      "abnormal     47\n",
      "Name: rbc, dtype: int64\n",
      "pc\n",
      ".....\n",
      "2\n",
      "normal      324\n",
      "abnormal     76\n",
      "Name: pc, dtype: int64\n",
      "pcc\n",
      ".....\n",
      "2\n",
      "notpresent    358\n",
      "present        42\n",
      "Name: pcc, dtype: int64\n",
      "ba\n",
      ".....\n",
      "2\n",
      "notpresent    378\n",
      "present        22\n",
      "Name: ba, dtype: int64\n",
      "htn\n",
      ".....\n",
      "2\n",
      "no     253\n",
      "yes    147\n",
      "Name: htn, dtype: int64\n",
      "dm\n",
      ".....\n",
      "2\n",
      "no     263\n",
      "yes    137\n",
      "Name: dm, dtype: int64\n",
      "cad\n",
      ".....\n",
      "2\n",
      "no     366\n",
      "yes     34\n",
      "Name: cad, dtype: int64\n",
      "appet\n",
      ".....\n",
      "2\n",
      "good    318\n",
      "poor     82\n",
      "Name: appet, dtype: int64\n",
      "pe\n",
      ".....\n",
      "2\n",
      "no     324\n",
      "yes     76\n",
      "Name: pe, dtype: int64\n",
      "ane\n",
      ".....\n",
      "2\n",
      "no     340\n",
      "yes     60\n",
      "Name: ane, dtype: int64\n",
      "classification\n",
      ".....\n",
      "2\n",
      "ckd       250\n",
      "notckd    150\n",
      "Name: classification, dtype: int64\n"
     ]
    }
   ],
   "source": [
    "for i in df.columns:\n",
    "    if df[i].dtype == object:\n",
    "        print(i)\n",
    "        print('.....')\n",
    "        print(df[i].nunique())\n",
    "        print(df[i].value_counts())"
   ]
  },
  {
   "cell_type": "code",
   "execution_count": 56,
   "id": "c6085945",
   "metadata": {},
   "outputs": [],
   "source": [
    "##label encoding\n",
    "df['rbc'].replace({'normal': 0,'abnormal':1},inplace = True)\n",
    "df['pc'].replace({'normal': 0,'abnormal':1},inplace = True)\n",
    "df['pcc'].replace({'notpresent': 0,'present':1},inplace = True)\n",
    "df['ba'].replace({'notpresent': 0,'present':1},inplace = True)\n",
    "df['htn'].replace({'no': 0,'yes':1},inplace = True)\n",
    "df['dm'].replace({'no': 0,'yes':1},inplace = True)\n",
    "df['cad'].replace({'no': 0, 'yes':1},inplace = True)\n",
    "df['appet'].replace({'good': 1,'poor':0},inplace = True)\n",
    "df['pe'].replace({'no': 0,'yes':1},inplace = True)\n",
    "df['ane'].replace({'no': 0 ,'yes':1},inplace = True)\n",
    "df['classification'].replace({'notckd': 0,'ckd': 1},inplace = True)"
   ]
  },
  {
   "cell_type": "code",
   "execution_count": 57,
   "id": "6a5bee69",
   "metadata": {},
   "outputs": [
    {
     "name": "stdout",
     "output_type": "stream",
     "text": [
      "<class 'pandas.core.frame.DataFrame'>\n",
      "Int64Index: 400 entries, 0 to 399\n",
      "Data columns (total 22 columns):\n",
      " #   Column          Non-Null Count  Dtype  \n",
      "---  ------          --------------  -----  \n",
      " 0   age             400 non-null    int32  \n",
      " 1   bp              400 non-null    int32  \n",
      " 2   al              400 non-null    int32  \n",
      " 3   su              400 non-null    int32  \n",
      " 4   rbc             400 non-null    int64  \n",
      " 5   pc              400 non-null    int64  \n",
      " 6   pcc             400 non-null    int64  \n",
      " 7   ba              400 non-null    int64  \n",
      " 8   bgr             400 non-null    int32  \n",
      " 9   bu              400 non-null    float64\n",
      " 10  sc              400 non-null    float64\n",
      " 11  sod             400 non-null    float64\n",
      " 12  hemo            400 non-null    int32  \n",
      " 13  pcv             400 non-null    int32  \n",
      " 14  wc              400 non-null    float64\n",
      " 15  htn             400 non-null    int64  \n",
      " 16  dm              400 non-null    int64  \n",
      " 17  cad             400 non-null    int64  \n",
      " 18  appet           400 non-null    int64  \n",
      " 19  pe              400 non-null    int64  \n",
      " 20  ane             400 non-null    int64  \n",
      " 21  classification  400 non-null    int64  \n",
      "dtypes: float64(4), int32(7), int64(11)\n",
      "memory usage: 60.9 KB\n"
     ]
    }
   ],
   "source": [
    "df.info()"
   ]
  },
  {
   "cell_type": "markdown",
   "id": "804911f9",
   "metadata": {},
   "source": [
    "# Predictive modeling"
   ]
  },
  {
   "cell_type": "code",
   "execution_count": 59,
   "id": "68a79d57",
   "metadata": {},
   "outputs": [],
   "source": [
    "#scaling\n",
    "from sklearn.preprocessing import StandardScaler"
   ]
  },
  {
   "cell_type": "code",
   "execution_count": 60,
   "id": "48fb6a6b",
   "metadata": {},
   "outputs": [],
   "source": [
    "sc = StandardScaler()"
   ]
  },
  {
   "cell_type": "markdown",
   "id": "a32bc4ad",
   "metadata": {},
   "source": [
    "INDEPENDENT AND DEPENDENT VARIABLES"
   ]
  },
  {
   "cell_type": "code",
   "execution_count": 61,
   "id": "27949069",
   "metadata": {},
   "outputs": [],
   "source": [
    "x=df.drop('classification',axis =1)\n",
    "y=df['classification']"
   ]
  },
  {
   "cell_type": "code",
   "execution_count": 62,
   "id": "766bc135",
   "metadata": {},
   "outputs": [
    {
     "data": {
      "text/html": [
       "<div>\n",
       "<style scoped>\n",
       "    .dataframe tbody tr th:only-of-type {\n",
       "        vertical-align: middle;\n",
       "    }\n",
       "\n",
       "    .dataframe tbody tr th {\n",
       "        vertical-align: top;\n",
       "    }\n",
       "\n",
       "    .dataframe thead th {\n",
       "        text-align: right;\n",
       "    }\n",
       "</style>\n",
       "<table border=\"1\" class=\"dataframe\">\n",
       "  <thead>\n",
       "    <tr style=\"text-align: right;\">\n",
       "      <th></th>\n",
       "      <th>age</th>\n",
       "      <th>bp</th>\n",
       "      <th>al</th>\n",
       "      <th>su</th>\n",
       "      <th>rbc</th>\n",
       "      <th>pc</th>\n",
       "      <th>pcc</th>\n",
       "      <th>ba</th>\n",
       "      <th>bgr</th>\n",
       "      <th>bu</th>\n",
       "      <th>sc</th>\n",
       "      <th>sod</th>\n",
       "      <th>hemo</th>\n",
       "      <th>pcv</th>\n",
       "      <th>wc</th>\n",
       "      <th>htn</th>\n",
       "      <th>dm</th>\n",
       "      <th>cad</th>\n",
       "      <th>appet</th>\n",
       "      <th>pe</th>\n",
       "      <th>ane</th>\n",
       "    </tr>\n",
       "    <tr>\n",
       "      <th>id</th>\n",
       "      <th></th>\n",
       "      <th></th>\n",
       "      <th></th>\n",
       "      <th></th>\n",
       "      <th></th>\n",
       "      <th></th>\n",
       "      <th></th>\n",
       "      <th></th>\n",
       "      <th></th>\n",
       "      <th></th>\n",
       "      <th></th>\n",
       "      <th></th>\n",
       "      <th></th>\n",
       "      <th></th>\n",
       "      <th></th>\n",
       "      <th></th>\n",
       "      <th></th>\n",
       "      <th></th>\n",
       "      <th></th>\n",
       "      <th></th>\n",
       "      <th></th>\n",
       "    </tr>\n",
       "  </thead>\n",
       "  <tbody>\n",
       "    <tr>\n",
       "      <th>0</th>\n",
       "      <td>48</td>\n",
       "      <td>80</td>\n",
       "      <td>1</td>\n",
       "      <td>0</td>\n",
       "      <td>0</td>\n",
       "      <td>0</td>\n",
       "      <td>0</td>\n",
       "      <td>0</td>\n",
       "      <td>121</td>\n",
       "      <td>36.0</td>\n",
       "      <td>1.2</td>\n",
       "      <td>137.528754</td>\n",
       "      <td>15</td>\n",
       "      <td>44</td>\n",
       "      <td>7800.0</td>\n",
       "      <td>1</td>\n",
       "      <td>1</td>\n",
       "      <td>0</td>\n",
       "      <td>1</td>\n",
       "      <td>0</td>\n",
       "      <td>0</td>\n",
       "    </tr>\n",
       "    <tr>\n",
       "      <th>1</th>\n",
       "      <td>7</td>\n",
       "      <td>50</td>\n",
       "      <td>4</td>\n",
       "      <td>0</td>\n",
       "      <td>0</td>\n",
       "      <td>0</td>\n",
       "      <td>0</td>\n",
       "      <td>0</td>\n",
       "      <td>121</td>\n",
       "      <td>18.0</td>\n",
       "      <td>0.8</td>\n",
       "      <td>137.528754</td>\n",
       "      <td>11</td>\n",
       "      <td>38</td>\n",
       "      <td>6000.0</td>\n",
       "      <td>0</td>\n",
       "      <td>0</td>\n",
       "      <td>0</td>\n",
       "      <td>1</td>\n",
       "      <td>0</td>\n",
       "      <td>0</td>\n",
       "    </tr>\n",
       "    <tr>\n",
       "      <th>2</th>\n",
       "      <td>62</td>\n",
       "      <td>80</td>\n",
       "      <td>2</td>\n",
       "      <td>3</td>\n",
       "      <td>0</td>\n",
       "      <td>0</td>\n",
       "      <td>0</td>\n",
       "      <td>0</td>\n",
       "      <td>423</td>\n",
       "      <td>53.0</td>\n",
       "      <td>1.8</td>\n",
       "      <td>137.528754</td>\n",
       "      <td>9</td>\n",
       "      <td>31</td>\n",
       "      <td>7500.0</td>\n",
       "      <td>0</td>\n",
       "      <td>1</td>\n",
       "      <td>0</td>\n",
       "      <td>0</td>\n",
       "      <td>0</td>\n",
       "      <td>1</td>\n",
       "    </tr>\n",
       "    <tr>\n",
       "      <th>3</th>\n",
       "      <td>48</td>\n",
       "      <td>70</td>\n",
       "      <td>4</td>\n",
       "      <td>0</td>\n",
       "      <td>0</td>\n",
       "      <td>1</td>\n",
       "      <td>1</td>\n",
       "      <td>0</td>\n",
       "      <td>117</td>\n",
       "      <td>56.0</td>\n",
       "      <td>3.8</td>\n",
       "      <td>126.000000</td>\n",
       "      <td>11</td>\n",
       "      <td>32</td>\n",
       "      <td>6700.0</td>\n",
       "      <td>1</td>\n",
       "      <td>0</td>\n",
       "      <td>0</td>\n",
       "      <td>0</td>\n",
       "      <td>1</td>\n",
       "      <td>1</td>\n",
       "    </tr>\n",
       "    <tr>\n",
       "      <th>4</th>\n",
       "      <td>51</td>\n",
       "      <td>80</td>\n",
       "      <td>2</td>\n",
       "      <td>0</td>\n",
       "      <td>0</td>\n",
       "      <td>0</td>\n",
       "      <td>0</td>\n",
       "      <td>0</td>\n",
       "      <td>106</td>\n",
       "      <td>26.0</td>\n",
       "      <td>1.4</td>\n",
       "      <td>137.528754</td>\n",
       "      <td>11</td>\n",
       "      <td>35</td>\n",
       "      <td>7300.0</td>\n",
       "      <td>0</td>\n",
       "      <td>0</td>\n",
       "      <td>0</td>\n",
       "      <td>1</td>\n",
       "      <td>0</td>\n",
       "      <td>0</td>\n",
       "    </tr>\n",
       "    <tr>\n",
       "      <th>...</th>\n",
       "      <td>...</td>\n",
       "      <td>...</td>\n",
       "      <td>...</td>\n",
       "      <td>...</td>\n",
       "      <td>...</td>\n",
       "      <td>...</td>\n",
       "      <td>...</td>\n",
       "      <td>...</td>\n",
       "      <td>...</td>\n",
       "      <td>...</td>\n",
       "      <td>...</td>\n",
       "      <td>...</td>\n",
       "      <td>...</td>\n",
       "      <td>...</td>\n",
       "      <td>...</td>\n",
       "      <td>...</td>\n",
       "      <td>...</td>\n",
       "      <td>...</td>\n",
       "      <td>...</td>\n",
       "      <td>...</td>\n",
       "      <td>...</td>\n",
       "    </tr>\n",
       "    <tr>\n",
       "      <th>395</th>\n",
       "      <td>55</td>\n",
       "      <td>80</td>\n",
       "      <td>0</td>\n",
       "      <td>0</td>\n",
       "      <td>0</td>\n",
       "      <td>0</td>\n",
       "      <td>0</td>\n",
       "      <td>0</td>\n",
       "      <td>140</td>\n",
       "      <td>49.0</td>\n",
       "      <td>0.5</td>\n",
       "      <td>150.000000</td>\n",
       "      <td>15</td>\n",
       "      <td>47</td>\n",
       "      <td>6700.0</td>\n",
       "      <td>0</td>\n",
       "      <td>0</td>\n",
       "      <td>0</td>\n",
       "      <td>1</td>\n",
       "      <td>0</td>\n",
       "      <td>0</td>\n",
       "    </tr>\n",
       "    <tr>\n",
       "      <th>396</th>\n",
       "      <td>42</td>\n",
       "      <td>70</td>\n",
       "      <td>0</td>\n",
       "      <td>0</td>\n",
       "      <td>0</td>\n",
       "      <td>0</td>\n",
       "      <td>0</td>\n",
       "      <td>0</td>\n",
       "      <td>75</td>\n",
       "      <td>31.0</td>\n",
       "      <td>1.2</td>\n",
       "      <td>141.000000</td>\n",
       "      <td>16</td>\n",
       "      <td>54</td>\n",
       "      <td>7800.0</td>\n",
       "      <td>0</td>\n",
       "      <td>0</td>\n",
       "      <td>0</td>\n",
       "      <td>1</td>\n",
       "      <td>0</td>\n",
       "      <td>0</td>\n",
       "    </tr>\n",
       "    <tr>\n",
       "      <th>397</th>\n",
       "      <td>12</td>\n",
       "      <td>80</td>\n",
       "      <td>0</td>\n",
       "      <td>0</td>\n",
       "      <td>0</td>\n",
       "      <td>0</td>\n",
       "      <td>0</td>\n",
       "      <td>0</td>\n",
       "      <td>100</td>\n",
       "      <td>26.0</td>\n",
       "      <td>0.6</td>\n",
       "      <td>137.000000</td>\n",
       "      <td>15</td>\n",
       "      <td>49</td>\n",
       "      <td>6600.0</td>\n",
       "      <td>0</td>\n",
       "      <td>0</td>\n",
       "      <td>0</td>\n",
       "      <td>1</td>\n",
       "      <td>0</td>\n",
       "      <td>0</td>\n",
       "    </tr>\n",
       "    <tr>\n",
       "      <th>398</th>\n",
       "      <td>17</td>\n",
       "      <td>60</td>\n",
       "      <td>0</td>\n",
       "      <td>0</td>\n",
       "      <td>0</td>\n",
       "      <td>0</td>\n",
       "      <td>0</td>\n",
       "      <td>0</td>\n",
       "      <td>114</td>\n",
       "      <td>50.0</td>\n",
       "      <td>1.0</td>\n",
       "      <td>135.000000</td>\n",
       "      <td>14</td>\n",
       "      <td>51</td>\n",
       "      <td>7200.0</td>\n",
       "      <td>0</td>\n",
       "      <td>0</td>\n",
       "      <td>0</td>\n",
       "      <td>1</td>\n",
       "      <td>0</td>\n",
       "      <td>0</td>\n",
       "    </tr>\n",
       "    <tr>\n",
       "      <th>399</th>\n",
       "      <td>58</td>\n",
       "      <td>80</td>\n",
       "      <td>0</td>\n",
       "      <td>0</td>\n",
       "      <td>0</td>\n",
       "      <td>0</td>\n",
       "      <td>0</td>\n",
       "      <td>0</td>\n",
       "      <td>131</td>\n",
       "      <td>18.0</td>\n",
       "      <td>1.1</td>\n",
       "      <td>141.000000</td>\n",
       "      <td>15</td>\n",
       "      <td>53</td>\n",
       "      <td>6800.0</td>\n",
       "      <td>0</td>\n",
       "      <td>0</td>\n",
       "      <td>0</td>\n",
       "      <td>1</td>\n",
       "      <td>0</td>\n",
       "      <td>0</td>\n",
       "    </tr>\n",
       "  </tbody>\n",
       "</table>\n",
       "<p>400 rows × 21 columns</p>\n",
       "</div>"
      ],
      "text/plain": [
       "     age  bp  al  su  rbc  pc  pcc  ba  bgr    bu   sc         sod  hemo  pcv  \\\n",
       "id                                                                              \n",
       "0     48  80   1   0    0   0    0   0  121  36.0  1.2  137.528754    15   44   \n",
       "1      7  50   4   0    0   0    0   0  121  18.0  0.8  137.528754    11   38   \n",
       "2     62  80   2   3    0   0    0   0  423  53.0  1.8  137.528754     9   31   \n",
       "3     48  70   4   0    0   1    1   0  117  56.0  3.8  126.000000    11   32   \n",
       "4     51  80   2   0    0   0    0   0  106  26.0  1.4  137.528754    11   35   \n",
       "..   ...  ..  ..  ..  ...  ..  ...  ..  ...   ...  ...         ...   ...  ...   \n",
       "395   55  80   0   0    0   0    0   0  140  49.0  0.5  150.000000    15   47   \n",
       "396   42  70   0   0    0   0    0   0   75  31.0  1.2  141.000000    16   54   \n",
       "397   12  80   0   0    0   0    0   0  100  26.0  0.6  137.000000    15   49   \n",
       "398   17  60   0   0    0   0    0   0  114  50.0  1.0  135.000000    14   51   \n",
       "399   58  80   0   0    0   0    0   0  131  18.0  1.1  141.000000    15   53   \n",
       "\n",
       "         wc  htn  dm  cad  appet  pe  ane  \n",
       "id                                         \n",
       "0    7800.0    1   1    0      1   0    0  \n",
       "1    6000.0    0   0    0      1   0    0  \n",
       "2    7500.0    0   1    0      0   0    1  \n",
       "3    6700.0    1   0    0      0   1    1  \n",
       "4    7300.0    0   0    0      1   0    0  \n",
       "..      ...  ...  ..  ...    ...  ..  ...  \n",
       "395  6700.0    0   0    0      1   0    0  \n",
       "396  7800.0    0   0    0      1   0    0  \n",
       "397  6600.0    0   0    0      1   0    0  \n",
       "398  7200.0    0   0    0      1   0    0  \n",
       "399  6800.0    0   0    0      1   0    0  \n",
       "\n",
       "[400 rows x 21 columns]"
      ]
     },
     "execution_count": 62,
     "metadata": {},
     "output_type": "execute_result"
    }
   ],
   "source": [
    "x"
   ]
  },
  {
   "cell_type": "code",
   "execution_count": 63,
   "id": "5c455c9e",
   "metadata": {},
   "outputs": [
    {
     "data": {
      "text/plain": [
       "id\n",
       "0      1\n",
       "1      1\n",
       "2      1\n",
       "3      1\n",
       "4      1\n",
       "      ..\n",
       "395    0\n",
       "396    0\n",
       "397    0\n",
       "398    0\n",
       "399    0\n",
       "Name: classification, Length: 400, dtype: int64"
      ]
     },
     "execution_count": 63,
     "metadata": {},
     "output_type": "execute_result"
    }
   ],
   "source": [
    "y"
   ]
  },
  {
   "cell_type": "code",
   "execution_count": 64,
   "id": "16f5fa0a",
   "metadata": {},
   "outputs": [
    {
     "data": {
      "text/html": [
       "<div>\n",
       "<style scoped>\n",
       "    .dataframe tbody tr th:only-of-type {\n",
       "        vertical-align: middle;\n",
       "    }\n",
       "\n",
       "    .dataframe tbody tr th {\n",
       "        vertical-align: top;\n",
       "    }\n",
       "\n",
       "    .dataframe thead th {\n",
       "        text-align: right;\n",
       "    }\n",
       "</style>\n",
       "<table border=\"1\" class=\"dataframe\">\n",
       "  <thead>\n",
       "    <tr style=\"text-align: right;\">\n",
       "      <th></th>\n",
       "      <th>age</th>\n",
       "      <th>bp</th>\n",
       "      <th>bgr</th>\n",
       "      <th>bu</th>\n",
       "      <th>sc</th>\n",
       "      <th>sod</th>\n",
       "      <th>pcv</th>\n",
       "      <th>wc</th>\n",
       "    </tr>\n",
       "    <tr>\n",
       "      <th>id</th>\n",
       "      <th></th>\n",
       "      <th></th>\n",
       "      <th></th>\n",
       "      <th></th>\n",
       "      <th></th>\n",
       "      <th></th>\n",
       "      <th></th>\n",
       "      <th></th>\n",
       "    </tr>\n",
       "  </thead>\n",
       "  <tbody>\n",
       "    <tr>\n",
       "      <th>0</th>\n",
       "      <td>48</td>\n",
       "      <td>80</td>\n",
       "      <td>121</td>\n",
       "      <td>36.0</td>\n",
       "      <td>1.2</td>\n",
       "      <td>137.528754</td>\n",
       "      <td>44</td>\n",
       "      <td>7800.0</td>\n",
       "    </tr>\n",
       "    <tr>\n",
       "      <th>1</th>\n",
       "      <td>7</td>\n",
       "      <td>50</td>\n",
       "      <td>121</td>\n",
       "      <td>18.0</td>\n",
       "      <td>0.8</td>\n",
       "      <td>137.528754</td>\n",
       "      <td>38</td>\n",
       "      <td>6000.0</td>\n",
       "    </tr>\n",
       "    <tr>\n",
       "      <th>2</th>\n",
       "      <td>62</td>\n",
       "      <td>80</td>\n",
       "      <td>423</td>\n",
       "      <td>53.0</td>\n",
       "      <td>1.8</td>\n",
       "      <td>137.528754</td>\n",
       "      <td>31</td>\n",
       "      <td>7500.0</td>\n",
       "    </tr>\n",
       "    <tr>\n",
       "      <th>3</th>\n",
       "      <td>48</td>\n",
       "      <td>70</td>\n",
       "      <td>117</td>\n",
       "      <td>56.0</td>\n",
       "      <td>3.8</td>\n",
       "      <td>126.000000</td>\n",
       "      <td>32</td>\n",
       "      <td>6700.0</td>\n",
       "    </tr>\n",
       "    <tr>\n",
       "      <th>4</th>\n",
       "      <td>51</td>\n",
       "      <td>80</td>\n",
       "      <td>106</td>\n",
       "      <td>26.0</td>\n",
       "      <td>1.4</td>\n",
       "      <td>137.528754</td>\n",
       "      <td>35</td>\n",
       "      <td>7300.0</td>\n",
       "    </tr>\n",
       "    <tr>\n",
       "      <th>...</th>\n",
       "      <td>...</td>\n",
       "      <td>...</td>\n",
       "      <td>...</td>\n",
       "      <td>...</td>\n",
       "      <td>...</td>\n",
       "      <td>...</td>\n",
       "      <td>...</td>\n",
       "      <td>...</td>\n",
       "    </tr>\n",
       "    <tr>\n",
       "      <th>395</th>\n",
       "      <td>55</td>\n",
       "      <td>80</td>\n",
       "      <td>140</td>\n",
       "      <td>49.0</td>\n",
       "      <td>0.5</td>\n",
       "      <td>150.000000</td>\n",
       "      <td>47</td>\n",
       "      <td>6700.0</td>\n",
       "    </tr>\n",
       "    <tr>\n",
       "      <th>396</th>\n",
       "      <td>42</td>\n",
       "      <td>70</td>\n",
       "      <td>75</td>\n",
       "      <td>31.0</td>\n",
       "      <td>1.2</td>\n",
       "      <td>141.000000</td>\n",
       "      <td>54</td>\n",
       "      <td>7800.0</td>\n",
       "    </tr>\n",
       "    <tr>\n",
       "      <th>397</th>\n",
       "      <td>12</td>\n",
       "      <td>80</td>\n",
       "      <td>100</td>\n",
       "      <td>26.0</td>\n",
       "      <td>0.6</td>\n",
       "      <td>137.000000</td>\n",
       "      <td>49</td>\n",
       "      <td>6600.0</td>\n",
       "    </tr>\n",
       "    <tr>\n",
       "      <th>398</th>\n",
       "      <td>17</td>\n",
       "      <td>60</td>\n",
       "      <td>114</td>\n",
       "      <td>50.0</td>\n",
       "      <td>1.0</td>\n",
       "      <td>135.000000</td>\n",
       "      <td>51</td>\n",
       "      <td>7200.0</td>\n",
       "    </tr>\n",
       "    <tr>\n",
       "      <th>399</th>\n",
       "      <td>58</td>\n",
       "      <td>80</td>\n",
       "      <td>131</td>\n",
       "      <td>18.0</td>\n",
       "      <td>1.1</td>\n",
       "      <td>141.000000</td>\n",
       "      <td>53</td>\n",
       "      <td>6800.0</td>\n",
       "    </tr>\n",
       "  </tbody>\n",
       "</table>\n",
       "<p>400 rows × 8 columns</p>\n",
       "</div>"
      ],
      "text/plain": [
       "     age  bp  bgr    bu   sc         sod  pcv      wc\n",
       "id                                                   \n",
       "0     48  80  121  36.0  1.2  137.528754   44  7800.0\n",
       "1      7  50  121  18.0  0.8  137.528754   38  6000.0\n",
       "2     62  80  423  53.0  1.8  137.528754   31  7500.0\n",
       "3     48  70  117  56.0  3.8  126.000000   32  6700.0\n",
       "4     51  80  106  26.0  1.4  137.528754   35  7300.0\n",
       "..   ...  ..  ...   ...  ...         ...  ...     ...\n",
       "395   55  80  140  49.0  0.5  150.000000   47  6700.0\n",
       "396   42  70   75  31.0  1.2  141.000000   54  7800.0\n",
       "397   12  80  100  26.0  0.6  137.000000   49  6600.0\n",
       "398   17  60  114  50.0  1.0  135.000000   51  7200.0\n",
       "399   58  80  131  18.0  1.1  141.000000   53  6800.0\n",
       "\n",
       "[400 rows x 8 columns]"
      ]
     },
     "execution_count": 64,
     "metadata": {},
     "output_type": "execute_result"
    }
   ],
   "source": [
    "x.iloc[:,[0,1,8,9,10,11,13,14]]"
   ]
  },
  {
   "cell_type": "code",
   "execution_count": 65,
   "id": "3b663467",
   "metadata": {},
   "outputs": [],
   "source": [
    "x.iloc[:,[0,1,8,9,10,11,13,14]] = sc.fit_transform(x.iloc[:,[0,1,8,9,10,11,13,14]])"
   ]
  },
  {
   "cell_type": "markdown",
   "id": "26602a59",
   "metadata": {},
   "source": [
    "TRAIN TEST SPILT"
   ]
  },
  {
   "cell_type": "code",
   "execution_count": 66,
   "id": "f621b863",
   "metadata": {},
   "outputs": [],
   "source": [
    "from sklearn.model_selection import train_test_split"
   ]
  },
  {
   "cell_type": "code",
   "execution_count": 67,
   "id": "5bc4ac7a",
   "metadata": {},
   "outputs": [],
   "source": [
    "x_train,x_test,y_train,y_test =train_test_split(x,y,test_size = 0.2,random_state=12)"
   ]
  },
  {
   "cell_type": "code",
   "execution_count": 68,
   "id": "751d6163",
   "metadata": {},
   "outputs": [
    {
     "data": {
      "text/plain": [
       "((320, 21), (80, 21), (320,), (80,))"
      ]
     },
     "execution_count": 68,
     "metadata": {},
     "output_type": "execute_result"
    }
   ],
   "source": [
    "x_train.shape,x_test.shape,y_train.shape,y_test.shape"
   ]
  },
  {
   "cell_type": "code",
   "execution_count": 69,
   "id": "9e01034b",
   "metadata": {},
   "outputs": [
    {
     "data": {
      "text/plain": [
       "((320, 21), (320,))"
      ]
     },
     "execution_count": 69,
     "metadata": {},
     "output_type": "execute_result"
    }
   ],
   "source": [
    "x_train.shape,y_train.shape"
   ]
  },
  {
   "cell_type": "code",
   "execution_count": 70,
   "id": "fc6d2ae9",
   "metadata": {},
   "outputs": [
    {
     "data": {
      "text/plain": [
       "1    202\n",
       "0    118\n",
       "Name: classification, dtype: int64"
      ]
     },
     "execution_count": 70,
     "metadata": {},
     "output_type": "execute_result"
    }
   ],
   "source": [
    "y_train.value_counts()"
   ]
  },
  {
   "cell_type": "markdown",
   "id": "924103f8",
   "metadata": {},
   "source": [
    "BALANCING IMBALANCED DATA"
   ]
  },
  {
   "cell_type": "code",
   "execution_count": 71,
   "id": "8e348682",
   "metadata": {
    "scrolled": true
   },
   "outputs": [],
   "source": [
    "# pip install imblearn"
   ]
  },
  {
   "cell_type": "code",
   "execution_count": 72,
   "id": "d4d61877",
   "metadata": {},
   "outputs": [],
   "source": [
    "from imblearn.over_sampling import SMOTE"
   ]
  },
  {
   "cell_type": "raw",
   "id": "192bb689",
   "metadata": {},
   "source": [
    "#sm = SMOTE(random_state = 12, ratio = 1.0)"
   ]
  },
  {
   "cell_type": "code",
   "execution_count": 73,
   "id": "db21d72e",
   "metadata": {},
   "outputs": [],
   "source": [
    "smote = SMOTE(sampling_strategy = 1, random_state = 0,k_neighbors = 4)"
   ]
  },
  {
   "cell_type": "code",
   "execution_count": 74,
   "id": "06aea083",
   "metadata": {},
   "outputs": [],
   "source": [
    "x_train_smote ,y_train_smote = smote.fit_resample(x_train,y_train)"
   ]
  },
  {
   "cell_type": "markdown",
   "id": "d557025c",
   "metadata": {},
   "source": [
    "LOGISTIC REGRESSION"
   ]
  },
  {
   "cell_type": "code",
   "execution_count": 75,
   "id": "11b0f738",
   "metadata": {},
   "outputs": [],
   "source": [
    "from sklearn.linear_model import LogisticRegression\n",
    "log = LogisticRegression()"
   ]
  },
  {
   "cell_type": "code",
   "execution_count": 76,
   "id": "4ff2ceb8",
   "metadata": {},
   "outputs": [
    {
     "data": {
      "text/plain": [
       "LogisticRegression()"
      ]
     },
     "execution_count": 76,
     "metadata": {},
     "output_type": "execute_result"
    }
   ],
   "source": [
    "log.fit(x_train_smote,y_train_smote)"
   ]
  },
  {
   "cell_type": "code",
   "execution_count": 77,
   "id": "bda18865",
   "metadata": {},
   "outputs": [
    {
     "data": {
      "text/plain": [
       "((404, 21), (404,))"
      ]
     },
     "execution_count": 77,
     "metadata": {},
     "output_type": "execute_result"
    }
   ],
   "source": [
    "x_train_smote.shape ,y_train_smote.shape"
   ]
  },
  {
   "cell_type": "code",
   "execution_count": 78,
   "id": "b297544d",
   "metadata": {},
   "outputs": [
    {
     "data": {
      "text/plain": [
       "1    202\n",
       "0    202\n",
       "Name: classification, dtype: int64"
      ]
     },
     "execution_count": 78,
     "metadata": {},
     "output_type": "execute_result"
    }
   ],
   "source": [
    "y_train_smote.value_counts()"
   ]
  },
  {
   "cell_type": "code",
   "execution_count": 79,
   "id": "7c0c0dac",
   "metadata": {},
   "outputs": [
    {
     "data": {
      "text/plain": [
       "(array([[ 0.068042  ,  0.73520115,  2.02624606,  0.62249297,  0.3196724 ,\n",
       "          0.5225842 ,  0.05767638,  0.02531572,  0.81271878, -0.04131551,\n",
       "          1.98230576, -0.56837035, -1.27463392, -1.00587591, -0.12065307,\n",
       "          0.59091314,  1.04110286,  0.03463219, -1.08849968,  0.86646242,\n",
       "          0.52608746]]),\n",
       " array([18.00861768]))"
      ]
     },
     "execution_count": 79,
     "metadata": {},
     "output_type": "execute_result"
    }
   ],
   "source": [
    "log.coef_,log.intercept_"
   ]
  },
  {
   "cell_type": "code",
   "execution_count": 80,
   "id": "ff58da9a",
   "metadata": {},
   "outputs": [],
   "source": [
    "from sklearn.metrics import accuracy_score,classification_report,confusion_matrix,confusion_matrix\n",
    "from sklearn.metrics import plot_confusion_matrix,roc_curve,auc\n",
    "from sklearn.model_selection import cross_val_score"
   ]
  },
  {
   "cell_type": "code",
   "execution_count": 81,
   "id": "a57df529",
   "metadata": {},
   "outputs": [],
   "source": [
    "y_testpred_log = log.predict(x_test)"
   ]
  },
  {
   "cell_type": "code",
   "execution_count": 82,
   "id": "0c14008e",
   "metadata": {},
   "outputs": [
    {
     "data": {
      "image/png": "[encoded data removed]",
      "text/plain": [
       "<Figure size 640x480 with 2 Axes>"
      ]
     },
     "metadata": {},
     "output_type": "display_data"
    }
   ],
   "source": [
    "import matplotlib.pyplot as plt \n",
    "plt.show(plot_confusion_matrix(log,x_test,y_test))"
   ]
  },
  {
   "cell_type": "code",
   "execution_count": 83,
   "id": "9c36ec50",
   "metadata": {},
   "outputs": [
    {
     "name": "stdout",
     "output_type": "stream",
     "text": [
      "Classification Report:\n",
      "               precision    recall  f1-score   support\n",
      "\n",
      "           0       0.89      1.00      0.94        32\n",
      "           1       1.00      0.92      0.96        48\n",
      "\n",
      "    accuracy                           0.95        80\n",
      "   macro avg       0.94      0.96      0.95        80\n",
      "weighted avg       0.96      0.95      0.95        80\n",
      "\n"
     ]
    }
   ],
   "source": [
    "print(\"Classification Report:\\n\",classification_report(y_test, y_testpred_log))"
   ]
  },
  {
   "cell_type": "code",
   "execution_count": 84,
   "id": "7c3ec2da",
   "metadata": {},
   "outputs": [],
   "source": [
    "#Another way to plot confusion matrix"
   ]
  },
  {
   "cell_type": "code",
   "execution_count": 85,
   "id": "03ec7bc1",
   "metadata": {},
   "outputs": [],
   "source": [
    "from sklearn.metrics import confusion_matrix, ConfusionMatrixDisplay"
   ]
  },
  {
   "cell_type": "code",
   "execution_count": 86,
   "id": "79d960cc",
   "metadata": {},
   "outputs": [
    {
     "data": {
      "text/plain": [
       "array([0, 1], dtype=int64)"
      ]
     },
     "execution_count": 86,
     "metadata": {},
     "output_type": "execute_result"
    }
   ],
   "source": [
    "log.classes_"
   ]
  },
  {
   "cell_type": "code",
   "execution_count": 87,
   "id": "712a74f4",
   "metadata": {},
   "outputs": [
    {
     "name": "stdout",
     "output_type": "stream",
     "text": [
      "[[32  0]\n",
      " [ 4 44]]\n"
     ]
    }
   ],
   "source": [
    "cm = confusion_matrix(y_test,y_testpred_log,labels = log.classes_)\n",
    "print(cm)"
   ]
  },
  {
   "cell_type": "code",
   "execution_count": 88,
   "id": "82bd5f34",
   "metadata": {},
   "outputs": [],
   "source": [
    "cm_dis = ConfusionMatrixDisplay(confusion_matrix = cm , display_labels = ['no disease','disease'])"
   ]
  },
  {
   "cell_type": "code",
   "execution_count": 89,
   "id": "6b77c54b",
   "metadata": {},
   "outputs": [
    {
     "data": {
      "text/plain": [
       "<sklearn.metrics._plot.confusion_matrix.ConfusionMatrixDisplay at 0x2c2e60bc700>"
      ]
     },
     "execution_count": 89,
     "metadata": {},
     "output_type": "execute_result"
    },
    {
     "data": {
      "image/png": "[encoded data removed]",
      "text/plain": [
       "<Figure size 640x480 with 2 Axes>"
      ]
     },
     "metadata": {},
     "output_type": "display_data"
    }
   ],
   "source": [
    "cm_dis.plot()"
   ]
  },
  {
   "cell_type": "code",
   "execution_count": 90,
   "id": "01660b38",
   "metadata": {},
   "outputs": [
    {
     "name": "stdout",
     "output_type": "stream",
     "text": [
      "Classification Report:\n",
      "               precision    recall  f1-score   support\n",
      "\n",
      "           0       0.89      1.00      0.94        32\n",
      "           1       1.00      0.92      0.96        48\n",
      "\n",
      "    accuracy                           0.95        80\n",
      "   macro avg       0.94      0.96      0.95        80\n",
      "weighted avg       0.96      0.95      0.95        80\n",
      "\n"
     ]
    }
   ],
   "source": [
    "print(\"Classification Report:\\n\",classification_report(y_test, y_testpred_log))"
   ]
  },
  {
   "cell_type": "code",
   "execution_count": null,
   "id": "545b53a4",
   "metadata": {},
   "outputs": [],
   "source": []
  },
  {
   "cell_type": "code",
   "execution_count": 91,
   "id": "f9ccc403",
   "metadata": {},
   "outputs": [],
   "source": [
    "##ROC Curve and AUC score"
   ]
  },
  {
   "cell_type": "code",
   "execution_count": 92,
   "id": "6982bc44",
   "metadata": {},
   "outputs": [],
   "source": [
    "from sklearn.metrics import plot_roc_curve\n",
    "from sklearn.metrics import roc_auc_score"
   ]
  },
  {
   "cell_type": "code",
   "execution_count": 93,
   "id": "a107354e",
   "metadata": {},
   "outputs": [],
   "source": [
    "def plot_roc_curve(fpr,tpr):\n",
    "    plt.plot(fpr,tpr,color = 'orange',label = 'ROC')\n",
    "    plt.plot([0,1],[0,1], color = 'darkblue' , linestyle = '-')\n",
    "    plt.xlabel('False positive Rate')\n",
    "    plt.ylabel('True positive Rate')\n",
    "    plt.title('ROC Curve')\n",
    "    plt.legend()\n",
    "    plt.show()"
   ]
  },
  {
   "cell_type": "code",
   "execution_count": 94,
   "id": "2e624a3b",
   "metadata": {},
   "outputs": [],
   "source": [
    "probs = log.predict_proba(x_test)"
   ]
  },
  {
   "cell_type": "code",
   "execution_count": 95,
   "id": "b19ef437",
   "metadata": {},
   "outputs": [],
   "source": [
    "probs = probs[:,1]"
   ]
  },
  {
   "cell_type": "code",
   "execution_count": 96,
   "id": "cd441632",
   "metadata": {},
   "outputs": [],
   "source": [
    "auc = roc_auc_score( y_test, probs)"
   ]
  },
  {
   "cell_type": "code",
   "execution_count": 97,
   "id": "59b9dc66",
   "metadata": {},
   "outputs": [],
   "source": [
    "fpr, tpr, thresholds = roc_curve(y_test, probs)"
   ]
  },
  {
   "cell_type": "code",
   "execution_count": 98,
   "id": "1611bf1e",
   "metadata": {},
   "outputs": [
    {
     "data": {
      "image/png": "[encoded data removed]",
      "text/plain": [
       "<Figure size 640x480 with 1 Axes>"
      ]
     },
     "metadata": {},
     "output_type": "display_data"
    }
   ],
   "source": [
    "plot_roc_curve(fpr, tpr)"
   ]
  },
  {
   "cell_type": "markdown",
   "id": "2f2d05ab",
   "metadata": {},
   "source": [
    "KNN"
   ]
  },
  {
   "cell_type": "code",
   "execution_count": 99,
   "id": "75a82092",
   "metadata": {},
   "outputs": [],
   "source": [
    "from sklearn.neighbors import KNeighborsClassifier\n",
    "knn = KNeighborsClassifier(n_neighbors = 5, p= 2)"
   ]
  },
  {
   "cell_type": "code",
   "execution_count": 100,
   "id": "6f725579",
   "metadata": {},
   "outputs": [],
   "source": [
    "knn.fit(x_train_smote,y_train_smote)\n",
    "y_testpred_knn = knn.predict(x_test)"
   ]
  },
  {
   "cell_type": "code",
   "execution_count": 101,
   "id": "e6df54af",
   "metadata": {},
   "outputs": [
    {
     "data": {
      "image/png": "[encoded data removed]",
      "text/plain": [
       "<Figure size 640x480 with 2 Axes>"
      ]
     },
     "metadata": {},
     "output_type": "display_data"
    }
   ],
   "source": [
    "plt.show(plot_confusion_matrix(knn,x_test,y_test))"
   ]
  },
  {
   "cell_type": "code",
   "execution_count": 102,
   "id": "750f9652",
   "metadata": {},
   "outputs": [
    {
     "name": "stdout",
     "output_type": "stream",
     "text": [
      "classification Report:\n",
      "               precision    recall  f1-score   support\n",
      "\n",
      "           0       0.86      1.00      0.93        32\n",
      "           1       1.00      0.90      0.95        48\n",
      "\n",
      "    accuracy                           0.94        80\n",
      "   macro avg       0.93      0.95      0.94        80\n",
      "weighted avg       0.95      0.94      0.94        80\n",
      "\n"
     ]
    }
   ],
   "source": [
    "print('classification Report:\\n',classification_report(y_test, y_testpred_knn))"
   ]
  },
  {
   "cell_type": "code",
   "execution_count": null,
   "id": "38ef42ee",
   "metadata": {},
   "outputs": [],
   "source": []
  },
  {
   "cell_type": "code",
   "execution_count": null,
   "id": "2eaed301",
   "metadata": {},
   "outputs": [],
   "source": []
  },
  {
   "cell_type": "markdown",
   "id": "b59ff8d6",
   "metadata": {},
   "source": [
    "SVM"
   ]
  },
  {
   "cell_type": "code",
   "execution_count": 103,
   "id": "97cdbd98",
   "metadata": {},
   "outputs": [],
   "source": [
    "from sklearn.svm import SVC\n",
    "svc = SVC(kernel = 'rbf',gamma = 5)"
   ]
  },
  {
   "cell_type": "code",
   "execution_count": 104,
   "id": "8ae69c66",
   "metadata": {},
   "outputs": [],
   "source": [
    "svc.fit(x_train_smote,y_train_smote)\n",
    "y_testpred_svc = svc.predict(x_test)"
   ]
  },
  {
   "cell_type": "code",
   "execution_count": 105,
   "id": "a2f080ec",
   "metadata": {},
   "outputs": [
    {
     "data": {
      "image/png": "[encoded data removed]",
      "text/plain": [
       "<Figure size 640x480 with 2 Axes>"
      ]
     },
     "metadata": {},
     "output_type": "display_data"
    }
   ],
   "source": [
    "plt.show(plot_confusion_matrix(svc,x_test,y_test))"
   ]
  },
  {
   "cell_type": "code",
   "execution_count": 106,
   "id": "a8e7c8e6",
   "metadata": {},
   "outputs": [
    {
     "name": "stdout",
     "output_type": "stream",
     "text": [
      "classification Report\n",
      "               precision    recall  f1-score   support\n",
      "\n",
      "           0       0.00      0.00      0.00        32\n",
      "           1       0.60      1.00      0.75        48\n",
      "\n",
      "    accuracy                           0.60        80\n",
      "   macro avg       0.30      0.50      0.37        80\n",
      "weighted avg       0.36      0.60      0.45        80\n",
      "\n"
     ]
    }
   ],
   "source": [
    "print(\"classification Report\\n\" ,classification_report(y_test,y_testpred_svc))"
   ]
  },
  {
   "cell_type": "code",
   "execution_count": null,
   "id": "8f59e813",
   "metadata": {},
   "outputs": [],
   "source": []
  },
  {
   "cell_type": "code",
   "execution_count": null,
   "id": "f9290f7b",
   "metadata": {},
   "outputs": [],
   "source": []
  },
  {
   "cell_type": "markdown",
   "id": "0d50ac1f",
   "metadata": {},
   "source": [
    "GAUSSIAN CLASSIFIER"
   ]
  },
  {
   "cell_type": "code",
   "execution_count": 107,
   "id": "605fc75e",
   "metadata": {},
   "outputs": [],
   "source": [
    "from sklearn.naive_bayes import GaussianNB\n",
    "nb = GaussianNB()"
   ]
  },
  {
   "cell_type": "code",
   "execution_count": 108,
   "id": "27cef719",
   "metadata": {},
   "outputs": [],
   "source": [
    "nb.fit(x_train_smote,y_train_smote)\n",
    "y_testpred_nb = nb.predict(x_test)"
   ]
  },
  {
   "cell_type": "code",
   "execution_count": 109,
   "id": "cdd05f88",
   "metadata": {},
   "outputs": [
    {
     "data": {
      "image/png": "[encoded data removed]",
      "text/plain": [
       "<Figure size 640x480 with 2 Axes>"
      ]
     },
     "metadata": {},
     "output_type": "display_data"
    }
   ],
   "source": [
    "plt.show(plot_confusion_matrix(nb,x_test,y_test))"
   ]
  },
  {
   "cell_type": "code",
   "execution_count": 110,
   "id": "7bc74be7",
   "metadata": {},
   "outputs": [
    {
     "name": "stdout",
     "output_type": "stream",
     "text": [
      "classification_report\n",
      "               precision    recall  f1-score   support\n",
      "\n",
      "           0       0.94      1.00      0.97        32\n",
      "           1       1.00      0.96      0.98        48\n",
      "\n",
      "    accuracy                           0.97        80\n",
      "   macro avg       0.97      0.98      0.97        80\n",
      "weighted avg       0.98      0.97      0.98        80\n",
      "\n"
     ]
    }
   ],
   "source": [
    "print(\"classification_report\\n\",classification_report(y_test,y_testpred_nb))"
   ]
  },
  {
   "cell_type": "code",
   "execution_count": null,
   "id": "bcb61ae5",
   "metadata": {},
   "outputs": [],
   "source": []
  },
  {
   "cell_type": "code",
   "execution_count": null,
   "id": "0c394566",
   "metadata": {},
   "outputs": [],
   "source": []
  },
  {
   "cell_type": "markdown",
   "id": "cf72015e",
   "metadata": {},
   "source": [
    "DECISION TREE CLASSIFIER"
   ]
  },
  {
   "cell_type": "code",
   "execution_count": 111,
   "id": "f01d4070",
   "metadata": {},
   "outputs": [],
   "source": [
    "from sklearn.tree import DecisionTreeClassifier\n",
    "dt = DecisionTreeClassifier(criterion = 'entropy',max_depth = 3)"
   ]
  },
  {
   "cell_type": "code",
   "execution_count": 112,
   "id": "6bdeba72",
   "metadata": {},
   "outputs": [],
   "source": [
    "dt.fit(x_train_smote,y_train_smote)\n",
    "y_testpred_dt = dt.predict(x_test)"
   ]
  },
  {
   "cell_type": "code",
   "execution_count": 113,
   "id": "a5ca14d3",
   "metadata": {},
   "outputs": [
    {
     "data": {
      "image/png": "[encoded data removed]",
      "text/plain": [
       "<Figure size 640x480 with 2 Axes>"
      ]
     },
     "metadata": {},
     "output_type": "display_data"
    }
   ],
   "source": [
    "plt.show(plot_confusion_matrix(dt,x_test,y_test))"
   ]
  },
  {
   "cell_type": "code",
   "execution_count": 114,
   "id": "8dc8e619",
   "metadata": {},
   "outputs": [
    {
     "name": "stdout",
     "output_type": "stream",
     "text": [
      "              precision    recall  f1-score   support\n",
      "\n",
      "           0       0.89      1.00      0.94        32\n",
      "           1       1.00      0.92      0.96        48\n",
      "\n",
      "    accuracy                           0.95        80\n",
      "   macro avg       0.94      0.96      0.95        80\n",
      "weighted avg       0.96      0.95      0.95        80\n",
      "\n"
     ]
    }
   ],
   "source": [
    "print(classification_report(y_test,y_testpred_dt))"
   ]
  },
  {
   "cell_type": "code",
   "execution_count": null,
   "id": "41537c88",
   "metadata": {},
   "outputs": [],
   "source": []
  },
  {
   "cell_type": "code",
   "execution_count": null,
   "id": "a1b96730",
   "metadata": {},
   "outputs": [],
   "source": []
  },
  {
   "cell_type": "markdown",
   "id": "8cd2362f",
   "metadata": {},
   "source": [
    "RANDOM FOREST CLASSIFIER"
   ]
  },
  {
   "cell_type": "code",
   "execution_count": 115,
   "id": "af5c1856",
   "metadata": {},
   "outputs": [],
   "source": [
    "from sklearn.ensemble import RandomForestClassifier\n",
    "rf = RandomForestClassifier(n_estimators = 2, max_depth = 2,criterion = 'entropy')"
   ]
  },
  {
   "cell_type": "code",
   "execution_count": 116,
   "id": "227ddf2e",
   "metadata": {},
   "outputs": [],
   "source": [
    "rf.fit(x_train_smote,y_train_smote)\n",
    "y_testpred_rf = rf.predict(x_test)"
   ]
  },
  {
   "cell_type": "code",
   "execution_count": 117,
   "id": "5d797e5f",
   "metadata": {},
   "outputs": [
    {
     "data": {
      "image/png": "[encoded data removed]",
      "text/plain": [
       "<Figure size 640x480 with 2 Axes>"
      ]
     },
     "metadata": {},
     "output_type": "display_data"
    }
   ],
   "source": [
    "plt.show(plot_confusion_matrix(rf,x_test,y_test))"
   ]
  },
  {
   "cell_type": "code",
   "execution_count": 118,
   "id": "6e937d65",
   "metadata": {},
   "outputs": [
    {
     "name": "stdout",
     "output_type": "stream",
     "text": [
      "              precision    recall  f1-score   support\n",
      "\n",
      "           0       0.75      0.94      0.83        32\n",
      "           1       0.95      0.79      0.86        48\n",
      "\n",
      "    accuracy                           0.85        80\n",
      "   macro avg       0.85      0.86      0.85        80\n",
      "weighted avg       0.87      0.85      0.85        80\n",
      "\n"
     ]
    }
   ],
   "source": [
    "print(classification_report(y_test,y_testpred_rf))"
   ]
  },
  {
   "cell_type": "code",
   "execution_count": null,
   "id": "53224c55",
   "metadata": {},
   "outputs": [],
   "source": []
  },
  {
   "cell_type": "code",
   "execution_count": null,
   "id": "f8c9d7eb",
   "metadata": {},
   "outputs": [],
   "source": []
  },
  {
   "cell_type": "markdown",
   "id": "58d6acb4",
   "metadata": {},
   "source": [
    "XGBOOST"
   ]
  },
  {
   "cell_type": "code",
   "execution_count": 119,
   "id": "03664315",
   "metadata": {},
   "outputs": [],
   "source": [
    "#pip install xgboost"
   ]
  },
  {
   "cell_type": "code",
   "execution_count": 120,
   "id": "1945f105",
   "metadata": {},
   "outputs": [],
   "source": [
    "from xgboost import XGBClassifier"
   ]
  },
  {
   "cell_type": "code",
   "execution_count": 121,
   "id": "beb06f7c",
   "metadata": {},
   "outputs": [],
   "source": [
    "xgb = XGBClassifier(n_estimators = 10,reg_alpha =0.5)"
   ]
  },
  {
   "cell_type": "code",
   "execution_count": 122,
   "id": "94fe5da1",
   "metadata": {},
   "outputs": [],
   "source": [
    "xgb.fit(x_train_smote,y_train_smote)\n",
    "y_testpred_xgb = xgb.predict(x_test)"
   ]
  },
  {
   "cell_type": "code",
   "execution_count": 123,
   "id": "c54902b6",
   "metadata": {},
   "outputs": [
    {
     "data": {
      "image/png": "[encoded data removed]",
      "text/plain": [
       "<Figure size 640x480 with 2 Axes>"
      ]
     },
     "metadata": {},
     "output_type": "display_data"
    }
   ],
   "source": [
    "plt.show(plot_confusion_matrix(xgb,x_test,y_test))"
   ]
  },
  {
   "cell_type": "code",
   "execution_count": 124,
   "id": "5ebca4b9",
   "metadata": {},
   "outputs": [
    {
     "name": "stdout",
     "output_type": "stream",
     "text": [
      "              precision    recall  f1-score   support\n",
      "\n",
      "           0       0.97      1.00      0.98        32\n",
      "           1       1.00      0.98      0.99        48\n",
      "\n",
      "    accuracy                           0.99        80\n",
      "   macro avg       0.98      0.99      0.99        80\n",
      "weighted avg       0.99      0.99      0.99        80\n",
      "\n"
     ]
    }
   ],
   "source": [
    "print(classification_report(y_test,y_testpred_xgb))"
   ]
  },
  {
   "cell_type": "markdown",
   "id": "cce114d0",
   "metadata": {},
   "source": [
    "INSIGHTS: XGBoost and DecisionTreeClassifier are giving better results compared to other models."
   ]
  },
  {
   "cell_type": "code",
   "execution_count": null,
   "id": "c6693ae4",
   "metadata": {},
   "outputs": [],
   "source": []
  },
  {
   "cell_type": "code",
   "execution_count": null,
   "id": "617da4e0",
   "metadata": {},
   "outputs": [],
   "source": []
  },
  {
   "cell_type": "code",
   "execution_count": null,
   "id": "cb0e6a74",
   "metadata": {},
   "outputs": [],
   "source": []
  },
  {
   "cell_type": "code",
   "execution_count": null,
   "id": "b7a60718",
   "metadata": {},
   "outputs": [],
   "source": []
  },
  {
   "cell_type": "code",
   "execution_count": null,
   "id": "495e8480",
   "metadata": {},
   "outputs": [],
   "source": []
  },
  {
   "cell_type": "code",
   "execution_count": null,
   "id": "383f89d5",
   "metadata": {},
   "outputs": [],
   "source": []
  },
  {
   "cell_type": "code",
   "execution_count": null,
   "id": "f4c86932",
   "metadata": {},
   "outputs": [],
   "source": []
  },
  {
   "cell_type": "code",
   "execution_count": null,
   "id": "b509e486",
   "metadata": {},
   "outputs": [],
   "source": []
  }
 ],
 "metadata": {
  "kernelspec": {
   "display_name": "Python 3 (ipykernel)",
   "language": "python",
   "name": "python3"
  },
  "language_info": {
   "codemirror_mode": {
    "name": "ipython",
    "version": 3
   },
   "file_extension": ".py",
   "mimetype": "text/x-python",
   "name": "python",
   "nbconvert_exporter": "python",
   "pygments_lexer": "ipython3",
   "version": "3.9.13"
  }
 },
 "nbformat": 4,
 "nbformat_minor": 5
}
